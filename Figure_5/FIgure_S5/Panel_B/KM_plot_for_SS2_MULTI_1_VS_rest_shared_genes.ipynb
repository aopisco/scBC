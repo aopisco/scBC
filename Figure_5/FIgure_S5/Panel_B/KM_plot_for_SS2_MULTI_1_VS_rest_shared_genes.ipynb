{
 "cells": [
  {
   "cell_type": "code",
   "execution_count": 1,
   "metadata": {},
   "outputs": [],
   "source": [
    "from lifelines import KaplanMeierFitter\n",
    "from lifelines.statistics import logrank_test\n",
    "from plotnine import *\n",
    "import matplotlib.pyplot as plt\n",
    "import pandas as pd\n",
    "import glob"
   ]
  },
  {
   "cell_type": "code",
   "execution_count": 2,
   "metadata": {},
   "outputs": [
    {
     "data": {
      "text/plain": [
       "['KMPlotter_result/KM_SS2_MULTI_E_RFS.txt',\n",
       " 'KMPlotter_result/KM_SS2_MULTI_H_RFS.txt',\n",
       " 'KMPlotter_result/KM_SS2_MULTI_M_RFS.txt']"
      ]
     },
     "execution_count": 2,
     "metadata": {},
     "output_type": "execute_result"
    }
   ],
   "source": [
    "runs = [f for f in glob.glob(\"KMPlotter_result/*.txt\")]\n",
    "runs"
   ]
  },
  {
   "cell_type": "code",
   "execution_count": 3,
   "metadata": {},
   "outputs": [
    {
     "name": "stderr",
     "output_type": "stream",
     "text": [
      "/home/weilun/anaconda3/lib/python3.8/site-packages/plotnine/ggplot.py:820: PlotnineWarning: Filename: KMPlotter_result/KM_SS2_MULTI_E_RFS_ref.pdf\n"
     ]
    },
    {
     "name": "stdout",
     "output_type": "stream",
     "text": [
      "2032\n",
      "----------------------------------------------------------------------------------------------------\n"
     ]
    },
    {
     "name": "stderr",
     "output_type": "stream",
     "text": [
      "/home/weilun/anaconda3/lib/python3.8/site-packages/plotnine/ggplot.py:820: PlotnineWarning: Filename: KMPlotter_result/KM_SS2_MULTI_E_RFS.pdf\n",
      "/home/weilun/anaconda3/lib/python3.8/site-packages/plotnine/ggplot.py:820: PlotnineWarning: Filename: KMPlotter_result/KM_SS2_MULTI_H_RFS_ref.pdf\n"
     ]
    },
    {
     "name": "stdout",
     "output_type": "stream",
     "text": [
      "4929\n",
      "----------------------------------------------------------------------------------------------------\n"
     ]
    },
    {
     "name": "stderr",
     "output_type": "stream",
     "text": [
      "/home/weilun/anaconda3/lib/python3.8/site-packages/plotnine/ggplot.py:820: PlotnineWarning: Filename: KMPlotter_result/KM_SS2_MULTI_H_RFS.pdf\n",
      "/home/weilun/anaconda3/lib/python3.8/site-packages/plotnine/ggplot.py:820: PlotnineWarning: Filename: KMPlotter_result/KM_SS2_MULTI_M_RFS_ref.pdf\n",
      "/home/weilun/anaconda3/lib/python3.8/site-packages/plotnine/ggplot.py:820: PlotnineWarning: Filename: KMPlotter_result/KM_SS2_MULTI_M_RFS.pdf\n"
     ]
    },
    {
     "name": "stdout",
     "output_type": "stream",
     "text": [
      "2032\n",
      "----------------------------------------------------------------------------------------------------\n"
     ]
    }
   ],
   "source": [
    "p_value_df = pd.DataFrame()\n",
    "for i in runs:\n",
    "    data_name = i.split('.')[0]\n",
    "    kmf = KaplanMeierFitter()\n",
    "    kmf_df = pd.DataFrame()\n",
    "    KM_df = pd.read_csv(i, sep='\\t',index_col=0)\n",
    "    KM_df['Expression (1=high)'] = KM_df['Expression (1=high)'].replace(1,'high')\n",
    "    KM_df['Expression (1=high)'] = KM_df['Expression (1=high)'].replace(0,'low')\n",
    "    for cat in ['low','high']:\n",
    "        f = KM_df['Expression (1=high)']==cat\n",
    "        T = KM_df[f]['Time (months)']\n",
    "        C = KM_df[f]['Event']\n",
    "        kmf.fit(T, event_observed=C, label=['RFS'])\n",
    "        temp_df = kmf.survival_function_.reset_index()\n",
    "        temp_df['label'] = cat\n",
    "        kmf_df = kmf_df.append(temp_df)\n",
    "        \n",
    "    f = KM_df['Expression (1=high)']=='low'\n",
    "    T = KM_df[f]['Time (months)']\n",
    "    C = KM_df[f]['Event']\n",
    "\n",
    "    f2 = KM_df['Expression (1=high)']=='high'\n",
    "    T2 = KM_df[f2]['Time (months)']\n",
    "    C2 = KM_df[f2]['Event']\n",
    "\n",
    "\n",
    "    results = logrank_test(T, T2, C, C2, alpha=.95)\n",
    "    \n",
    "    p_value_df[data_name] = [results.p_value]\n",
    "    \n",
    "    \n",
    "    plot1 = (ggplot(kmf_df)\n",
    "        + theme_bw()\n",
    "        + geom_step(aes('timeline','RFS',group='label',color='label'))+ ylim(0, 1)\n",
    "         +scale_color_manual({'low':'black', 'high':'red'})\n",
    "         +theme(\n",
    "          strip_background=element_blank(), strip_text_x=element_blank(),\n",
    "          plot_background=element_rect(fill='white', alpha=.3),panel_background=element_rect(fill='white', alpha=.2),figure_size=(5, 5),\n",
    "          panel_border = element_rect(colour = \"black\", fill=None, size=1),panel_grid_major = element_blank(),panel_grid_minor = element_blank()\n",
    "          ))\n",
    "    plot1\n",
    "        \n",
    "    save_as_pdf_pages([plot1],data_name+'_ref.pdf')\n",
    "        \n",
    "    plot2 = (ggplot(kmf_df)\n",
    "        + theme_bw()\n",
    "        + geom_step(aes('timeline','RFS',group='label',color='label'),show_legend = False,size=1.8)+ ylim(0, 1)\n",
    "         +scale_color_manual({'low':'black', 'high':'red'})\n",
    "         +theme(axis_text_x=element_blank(),axis_text_y=element_blank(),axis_title_x=element_blank(),axis_title_y=element_blank(),\n",
    "          strip_background=element_blank(), strip_text_x=element_blank(),\n",
    "          plot_background=element_rect(fill='white', alpha=.3),panel_background=element_rect(fill='white', alpha=.2),figure_size=(5, 5),\n",
    "          panel_border = element_rect(colour = \"black\", fill=None, size=1),panel_grid_major = element_blank(),panel_grid_minor = element_blank()\n",
    "          ))\n",
    "    save_as_pdf_pages([plot2],data_name+'.pdf')\n",
    "    \n",
    "    print(len(KM_df))\n",
    "\n",
    "    print('-'*100)"
   ]
  },
  {
   "cell_type": "code",
   "execution_count": 4,
   "metadata": {},
   "outputs": [],
   "source": [
    "p_value_df.to_csv('p_values.csv')"
   ]
  },
  {
   "cell_type": "code",
   "execution_count": 5,
   "metadata": {},
   "outputs": [
    {
     "data": {
      "text/plain": [
       "'KMPlotter_result/KM_SS2_MULTI_M_RFS'"
      ]
     },
     "execution_count": 5,
     "metadata": {},
     "output_type": "execute_result"
    }
   ],
   "source": [
    "data_name"
   ]
  },
  {
   "cell_type": "code",
   "execution_count": null,
   "metadata": {},
   "outputs": [],
   "source": []
  }
 ],
 "metadata": {
  "kernelspec": {
   "display_name": "Python 3",
   "language": "python",
   "name": "python3"
  },
  "language_info": {
   "codemirror_mode": {
    "name": "ipython",
    "version": 3
   },
   "file_extension": ".py",
   "mimetype": "text/x-python",
   "name": "python",
   "nbconvert_exporter": "python",
   "pygments_lexer": "ipython3",
   "version": "3.8.5"
  }
 },
 "nbformat": 4,
 "nbformat_minor": 4
}
