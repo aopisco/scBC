{
 "cells": [
  {
   "cell_type": "code",
   "execution_count": 1,
   "metadata": {},
   "outputs": [],
   "source": [
    "import scanpy as sc\n",
    "import pandas as pd\n",
    "from plotnine import * "
   ]
  },
  {
   "cell_type": "markdown",
   "metadata": {},
   "source": [
    "### function"
   ]
  },
  {
   "cell_type": "code",
   "execution_count": 2,
   "metadata": {},
   "outputs": [],
   "source": [
    "def overlap_df(df):\n",
    "    \n",
    "    combined_df = pd.DataFrame()\n",
    "\n",
    "\n",
    "    for i in df.columns.tolist():\n",
    "        temp_list = [x for x in df[i].tolist() if str(x) != 'nan']\n",
    "        length_of_gene_list = len(temp_list)\n",
    "        temp_df = pd.DataFrame(columns = ['gene', 'tumor_ID', 'overlap'])\n",
    "        temp_df['gene'] = temp_list\n",
    "        temp_df['tumor_ID'] = i\n",
    "        for gene in temp_list:\n",
    "            number_of_overlap = 0\n",
    "            for j in df.columns.tolist():\n",
    "                if j != i:\n",
    "                    com_temp_list = [y for y in df[j].tolist() if str(y) != 'nan']\n",
    "                    if gene in com_temp_list:\n",
    "                        number_of_overlap += 1\n",
    "                    \n",
    "            temp_df.loc[temp_df[temp_df['gene']== gene].index.values[0], 'overlap'] = number_of_overlap\n",
    "        combined_df = pd.concat([combined_df, temp_df])\n",
    "        \n",
    "    return combined_df"
   ]
  },
  {
   "cell_type": "code",
   "execution_count": 3,
   "metadata": {},
   "outputs": [],
   "source": [
    "def DEGs_stacked_bar_plots(df, color=['#023858','#045a8d','#0570b0','#3690c0','#74a9cf','#a6bddb','#d0d1e6','#ece7f2','#fff7fb']):\n",
    "    plot_ref = (ggplot(df, aes(x='tumor_ID',fill='overlap_range')) \n",
    "                + geom_bar( position='fill') \n",
    "                + coord_flip() +scale_fill_manual(color)\n",
    "                + theme(axis_text_x=element_text(rotation=45, hjust=1), \n",
    "                        plot_background=element_rect(fill='white', alpha=.3),\n",
    "                        panel_background=element_rect(fill='white', alpha=.2),\n",
    "                        panel_border=element_rect(color='black', size=1),\n",
    "                        axis_ticks_major_y=element_blank(), \n",
    "                        figure_size=(2, 10)))\n",
    "    \n",
    "    plot_no_labels = (ggplot(df, aes(x='tumor_ID',fill='overlap_range')) \n",
    "                      + geom_bar( position='fill') + guides(fill = None)\n",
    "                      + coord_flip() +scale_fill_manual(color)\n",
    "                      + theme(plot_background=element_rect(fill='white', alpha=.3),\n",
    "                              panel_background=element_rect(fill='white', alpha=.2),\n",
    "                              panel_border=element_rect(color='black', size=1),\n",
    "                              axis_title_x=element_blank(), axis_title_y=element_blank(), \n",
    "                              axis_text_x=element_blank(), axis_text_y=element_blank(), \n",
    "                              axis_ticks_major_y=element_blank(),  \n",
    "                              figure_size=(2, 10)))\n",
    "    \n",
    "    return plot_ref, plot_no_labels"
   ]
  },
  {
   "cell_type": "markdown",
   "metadata": {},
   "source": [
    "# making plots"
   ]
  },
  {
   "cell_type": "code",
   "execution_count": 4,
   "metadata": {},
   "outputs": [],
   "source": [
    "final_met_genes = pd.read_csv('SS2_met_vs_primary_met_genes_list.csv',index_col=0)\n",
    "final_tumor_genes = pd.read_csv('SS2_met_vs_primary_tumor_genes_list.csv',index_col=0)"
   ]
  },
  {
   "cell_type": "markdown",
   "metadata": {},
   "source": [
    "## met"
   ]
  },
  {
   "cell_type": "code",
   "execution_count": 5,
   "metadata": {},
   "outputs": [],
   "source": [
    "met_genes_overlap_df_not_all = overlap_df(final_met_genes.drop(columns=['J55454','H5471']))"
   ]
  },
  {
   "cell_type": "code",
   "execution_count": 6,
   "metadata": {},
   "outputs": [
    {
     "data": {
      "text/html": [
       "<div>\n",
       "<style scoped>\n",
       "    .dataframe tbody tr th:only-of-type {\n",
       "        vertical-align: middle;\n",
       "    }\n",
       "\n",
       "    .dataframe tbody tr th {\n",
       "        vertical-align: top;\n",
       "    }\n",
       "\n",
       "    .dataframe thead th {\n",
       "        text-align: right;\n",
       "    }\n",
       "</style>\n",
       "<table border=\"1\" class=\"dataframe\">\n",
       "  <thead>\n",
       "    <tr style=\"text-align: right;\">\n",
       "      <th></th>\n",
       "      <th>index</th>\n",
       "      <th>gene</th>\n",
       "      <th>tumor_ID</th>\n",
       "      <th>overlap</th>\n",
       "    </tr>\n",
       "  </thead>\n",
       "  <tbody>\n",
       "    <tr>\n",
       "      <th>0</th>\n",
       "      <td>0</td>\n",
       "      <td>IGFBP3</td>\n",
       "      <td>HCI001</td>\n",
       "      <td>0</td>\n",
       "    </tr>\n",
       "    <tr>\n",
       "      <th>1</th>\n",
       "      <td>1</td>\n",
       "      <td>CHI3L1</td>\n",
       "      <td>HCI001</td>\n",
       "      <td>1</td>\n",
       "    </tr>\n",
       "    <tr>\n",
       "      <th>2</th>\n",
       "      <td>2</td>\n",
       "      <td>LALBA</td>\n",
       "      <td>HCI001</td>\n",
       "      <td>0</td>\n",
       "    </tr>\n",
       "    <tr>\n",
       "      <th>3</th>\n",
       "      <td>3</td>\n",
       "      <td>DDIT4</td>\n",
       "      <td>HCI001</td>\n",
       "      <td>0</td>\n",
       "    </tr>\n",
       "    <tr>\n",
       "      <th>4</th>\n",
       "      <td>4</td>\n",
       "      <td>FRZB</td>\n",
       "      <td>HCI001</td>\n",
       "      <td>0</td>\n",
       "    </tr>\n",
       "    <tr>\n",
       "      <th>...</th>\n",
       "      <td>...</td>\n",
       "      <td>...</td>\n",
       "      <td>...</td>\n",
       "      <td>...</td>\n",
       "    </tr>\n",
       "    <tr>\n",
       "      <th>2980</th>\n",
       "      <td>175</td>\n",
       "      <td>SCCPDH</td>\n",
       "      <td>HCI011</td>\n",
       "      <td>2</td>\n",
       "    </tr>\n",
       "    <tr>\n",
       "      <th>2981</th>\n",
       "      <td>176</td>\n",
       "      <td>STRAP</td>\n",
       "      <td>HCI011</td>\n",
       "      <td>1</td>\n",
       "    </tr>\n",
       "    <tr>\n",
       "      <th>2982</th>\n",
       "      <td>177</td>\n",
       "      <td>SUGT1</td>\n",
       "      <td>HCI011</td>\n",
       "      <td>0</td>\n",
       "    </tr>\n",
       "    <tr>\n",
       "      <th>2983</th>\n",
       "      <td>178</td>\n",
       "      <td>HERPUD1</td>\n",
       "      <td>HCI011</td>\n",
       "      <td>1</td>\n",
       "    </tr>\n",
       "    <tr>\n",
       "      <th>2984</th>\n",
       "      <td>179</td>\n",
       "      <td>EFEMP1</td>\n",
       "      <td>HCI011</td>\n",
       "      <td>1</td>\n",
       "    </tr>\n",
       "  </tbody>\n",
       "</table>\n",
       "<p>2985 rows × 4 columns</p>\n",
       "</div>"
      ],
      "text/plain": [
       "      index     gene tumor_ID overlap\n",
       "0         0   IGFBP3   HCI001       0\n",
       "1         1   CHI3L1   HCI001       1\n",
       "2         2    LALBA   HCI001       0\n",
       "3         3    DDIT4   HCI001       0\n",
       "4         4     FRZB   HCI001       0\n",
       "...     ...      ...      ...     ...\n",
       "2980    175   SCCPDH   HCI011       2\n",
       "2981    176    STRAP   HCI011       1\n",
       "2982    177    SUGT1   HCI011       0\n",
       "2983    178  HERPUD1   HCI011       1\n",
       "2984    179   EFEMP1   HCI011       1\n",
       "\n",
       "[2985 rows x 4 columns]"
      ]
     },
     "execution_count": 6,
     "metadata": {},
     "output_type": "execute_result"
    }
   ],
   "source": [
    "met_genes_overlap_df_not_all = met_genes_overlap_df_not_all.reset_index()\n",
    "met_genes_overlap_df_not_all"
   ]
  },
  {
   "cell_type": "code",
   "execution_count": 7,
   "metadata": {},
   "outputs": [],
   "source": [
    "met_genes_overlap_df_not_all['overlap'] = met_genes_overlap_df_not_all['overlap'].astype(float)\n",
    "met_genes_overlap_df_not_all['overlap_range'] = met_genes_overlap_df_not_all['overlap']\n",
    "for i in met_genes_overlap_df_not_all.index:\n",
    "    if met_genes_overlap_df_not_all.loc[i, 'overlap'] >=4:\n",
    "        met_genes_overlap_df_not_all.loc[i, 'overlap_range'] = '>4'"
   ]
  },
  {
   "cell_type": "code",
   "execution_count": 8,
   "metadata": {},
   "outputs": [
    {
     "data": {
      "text/html": [
       "<div>\n",
       "<style scoped>\n",
       "    .dataframe tbody tr th:only-of-type {\n",
       "        vertical-align: middle;\n",
       "    }\n",
       "\n",
       "    .dataframe tbody tr th {\n",
       "        vertical-align: top;\n",
       "    }\n",
       "\n",
       "    .dataframe thead th {\n",
       "        text-align: right;\n",
       "    }\n",
       "</style>\n",
       "<table border=\"1\" class=\"dataframe\">\n",
       "  <thead>\n",
       "    <tr style=\"text-align: right;\">\n",
       "      <th></th>\n",
       "      <th>index</th>\n",
       "      <th>gene</th>\n",
       "      <th>tumor_ID</th>\n",
       "      <th>overlap</th>\n",
       "      <th>overlap_range</th>\n",
       "    </tr>\n",
       "  </thead>\n",
       "  <tbody>\n",
       "    <tr>\n",
       "      <th>0</th>\n",
       "      <td>0</td>\n",
       "      <td>IGFBP3</td>\n",
       "      <td>HCI001</td>\n",
       "      <td>0.0</td>\n",
       "      <td>0.0</td>\n",
       "    </tr>\n",
       "    <tr>\n",
       "      <th>1</th>\n",
       "      <td>1</td>\n",
       "      <td>CHI3L1</td>\n",
       "      <td>HCI001</td>\n",
       "      <td>1.0</td>\n",
       "      <td>1.0</td>\n",
       "    </tr>\n",
       "    <tr>\n",
       "      <th>2</th>\n",
       "      <td>2</td>\n",
       "      <td>LALBA</td>\n",
       "      <td>HCI001</td>\n",
       "      <td>0.0</td>\n",
       "      <td>0.0</td>\n",
       "    </tr>\n",
       "    <tr>\n",
       "      <th>3</th>\n",
       "      <td>3</td>\n",
       "      <td>DDIT4</td>\n",
       "      <td>HCI001</td>\n",
       "      <td>0.0</td>\n",
       "      <td>0.0</td>\n",
       "    </tr>\n",
       "    <tr>\n",
       "      <th>4</th>\n",
       "      <td>4</td>\n",
       "      <td>FRZB</td>\n",
       "      <td>HCI001</td>\n",
       "      <td>0.0</td>\n",
       "      <td>0.0</td>\n",
       "    </tr>\n",
       "    <tr>\n",
       "      <th>...</th>\n",
       "      <td>...</td>\n",
       "      <td>...</td>\n",
       "      <td>...</td>\n",
       "      <td>...</td>\n",
       "      <td>...</td>\n",
       "    </tr>\n",
       "    <tr>\n",
       "      <th>2980</th>\n",
       "      <td>175</td>\n",
       "      <td>SCCPDH</td>\n",
       "      <td>HCI011</td>\n",
       "      <td>2.0</td>\n",
       "      <td>2.0</td>\n",
       "    </tr>\n",
       "    <tr>\n",
       "      <th>2981</th>\n",
       "      <td>176</td>\n",
       "      <td>STRAP</td>\n",
       "      <td>HCI011</td>\n",
       "      <td>1.0</td>\n",
       "      <td>1.0</td>\n",
       "    </tr>\n",
       "    <tr>\n",
       "      <th>2982</th>\n",
       "      <td>177</td>\n",
       "      <td>SUGT1</td>\n",
       "      <td>HCI011</td>\n",
       "      <td>0.0</td>\n",
       "      <td>0.0</td>\n",
       "    </tr>\n",
       "    <tr>\n",
       "      <th>2983</th>\n",
       "      <td>178</td>\n",
       "      <td>HERPUD1</td>\n",
       "      <td>HCI011</td>\n",
       "      <td>1.0</td>\n",
       "      <td>1.0</td>\n",
       "    </tr>\n",
       "    <tr>\n",
       "      <th>2984</th>\n",
       "      <td>179</td>\n",
       "      <td>EFEMP1</td>\n",
       "      <td>HCI011</td>\n",
       "      <td>1.0</td>\n",
       "      <td>1.0</td>\n",
       "    </tr>\n",
       "  </tbody>\n",
       "</table>\n",
       "<p>2985 rows × 5 columns</p>\n",
       "</div>"
      ],
      "text/plain": [
       "      index     gene tumor_ID  overlap overlap_range\n",
       "0         0   IGFBP3   HCI001      0.0           0.0\n",
       "1         1   CHI3L1   HCI001      1.0           1.0\n",
       "2         2    LALBA   HCI001      0.0           0.0\n",
       "3         3    DDIT4   HCI001      0.0           0.0\n",
       "4         4     FRZB   HCI001      0.0           0.0\n",
       "...     ...      ...      ...      ...           ...\n",
       "2980    175   SCCPDH   HCI011      2.0           2.0\n",
       "2981    176    STRAP   HCI011      1.0           1.0\n",
       "2982    177    SUGT1   HCI011      0.0           0.0\n",
       "2983    178  HERPUD1   HCI011      1.0           1.0\n",
       "2984    179   EFEMP1   HCI011      1.0           1.0\n",
       "\n",
       "[2985 rows x 5 columns]"
      ]
     },
     "execution_count": 8,
     "metadata": {},
     "output_type": "execute_result"
    }
   ],
   "source": [
    "met_genes_overlap_df_not_all"
   ]
  },
  {
   "cell_type": "code",
   "execution_count": 9,
   "metadata": {},
   "outputs": [],
   "source": [
    "cat_order = ['>4',3,2,1,0]\n",
    "\n",
    "met_genes_overlap_df_not_all['overlap_range'] = pd.Categorical(met_genes_overlap_df_not_all['overlap_range'], categories=cat_order, ordered=True)\n",
    "\n",
    "cat_order = ['HCI010','J53353','J2036','H5097','HCI001','HCI011','HCI009',\n",
    "             'H4272','H3204','HCI005','global']\n",
    "\n",
    "met_genes_overlap_df_not_all['tumor_ID'] = pd.Categorical(met_genes_overlap_df_not_all['tumor_ID'], categories=cat_order, ordered=True)"
   ]
  },
  {
   "cell_type": "code",
   "execution_count": 10,
   "metadata": {},
   "outputs": [],
   "source": [
    "met_genes_stacked_bar_plot_ref_not_all, met_genes_stacked_bar_plot_not_all = DEGs_stacked_bar_plots(met_genes_overlap_df_not_all,color=['#253494','#2c7fb8','#41b6c4','#a1dab4','#ffffcc'])"
   ]
  },
  {
   "cell_type": "code",
   "execution_count": 11,
   "metadata": {},
   "outputs": [
    {
     "name": "stderr",
     "output_type": "stream",
     "text": [
      "/home/weilun/anaconda3/lib/python3.8/site-packages/plotnine/ggplot.py:820: PlotnineWarning: Filename: met_genes_stacked_bar_plot(without_J55454_H5471)_ref.pdf\n"
     ]
    },
    {
     "data": {
      "image/png": "[encoded data removed]",
      "text/plain": [
       "<Figure size 200x1000 with 1 Axes>"
      ]
     },
     "metadata": {
      "needs_background": "light"
     },
     "output_type": "display_data"
    },
    {
     "data": {
      "text/plain": [
       "<ggplot: (8773974716760)>"
      ]
     },
     "execution_count": 11,
     "metadata": {},
     "output_type": "execute_result"
    }
   ],
   "source": [
    "save_as_pdf_pages([met_genes_stacked_bar_plot_ref_not_all],'met_genes_stacked_bar_plot(without_J55454_H5471)_ref.pdf')\n",
    "met_genes_stacked_bar_plot_ref_not_all"
   ]
  },
  {
   "cell_type": "code",
   "execution_count": 12,
   "metadata": {},
   "outputs": [
    {
     "name": "stderr",
     "output_type": "stream",
     "text": [
      "/home/weilun/anaconda3/lib/python3.8/site-packages/plotnine/ggplot.py:820: PlotnineWarning: Filename: met_genes_stacked_bar_plot(without_J55454_H5471).pdf\n"
     ]
    },
    {
     "data": {
      "image/png": "[encoded data removed]",
      "text/plain": [
       "<Figure size 200x1000 with 1 Axes>"
      ]
     },
     "metadata": {},
     "output_type": "display_data"
    },
    {
     "data": {
      "text/plain": [
       "<ggplot: (8773974690717)>"
      ]
     },
     "execution_count": 12,
     "metadata": {},
     "output_type": "execute_result"
    }
   ],
   "source": [
    "save_as_pdf_pages([met_genes_stacked_bar_plot_not_all],'met_genes_stacked_bar_plot(without_J55454_H5471).pdf')\n",
    "met_genes_stacked_bar_plot_not_all"
   ]
  },
  {
   "cell_type": "markdown",
   "metadata": {},
   "source": [
    "## Tumor"
   ]
  },
  {
   "cell_type": "code",
   "execution_count": 13,
   "metadata": {},
   "outputs": [],
   "source": [
    "tumor_genes_overlap_df_not_all = overlap_df(final_tumor_genes.drop(columns=['J55454','H5471']))"
   ]
  },
  {
   "cell_type": "code",
   "execution_count": 14,
   "metadata": {},
   "outputs": [
    {
     "data": {
      "text/html": [
       "<div>\n",
       "<style scoped>\n",
       "    .dataframe tbody tr th:only-of-type {\n",
       "        vertical-align: middle;\n",
       "    }\n",
       "\n",
       "    .dataframe tbody tr th {\n",
       "        vertical-align: top;\n",
       "    }\n",
       "\n",
       "    .dataframe thead th {\n",
       "        text-align: right;\n",
       "    }\n",
       "</style>\n",
       "<table border=\"1\" class=\"dataframe\">\n",
       "  <thead>\n",
       "    <tr style=\"text-align: right;\">\n",
       "      <th></th>\n",
       "      <th>index</th>\n",
       "      <th>gene</th>\n",
       "      <th>tumor_ID</th>\n",
       "      <th>overlap</th>\n",
       "    </tr>\n",
       "  </thead>\n",
       "  <tbody>\n",
       "    <tr>\n",
       "      <th>0</th>\n",
       "      <td>0</td>\n",
       "      <td>PGK1</td>\n",
       "      <td>HCI001</td>\n",
       "      <td>4</td>\n",
       "    </tr>\n",
       "    <tr>\n",
       "      <th>1</th>\n",
       "      <td>1</td>\n",
       "      <td>SELENON</td>\n",
       "      <td>HCI001</td>\n",
       "      <td>0</td>\n",
       "    </tr>\n",
       "    <tr>\n",
       "      <th>2</th>\n",
       "      <td>2</td>\n",
       "      <td>SNRPB</td>\n",
       "      <td>HCI001</td>\n",
       "      <td>0</td>\n",
       "    </tr>\n",
       "    <tr>\n",
       "      <th>3</th>\n",
       "      <td>3</td>\n",
       "      <td>SLC1A5</td>\n",
       "      <td>HCI001</td>\n",
       "      <td>0</td>\n",
       "    </tr>\n",
       "    <tr>\n",
       "      <th>4</th>\n",
       "      <td>4</td>\n",
       "      <td>HSP90AA1</td>\n",
       "      <td>HCI001</td>\n",
       "      <td>0</td>\n",
       "    </tr>\n",
       "    <tr>\n",
       "      <th>...</th>\n",
       "      <td>...</td>\n",
       "      <td>...</td>\n",
       "      <td>...</td>\n",
       "      <td>...</td>\n",
       "    </tr>\n",
       "    <tr>\n",
       "      <th>3201</th>\n",
       "      <td>191</td>\n",
       "      <td>LDHA</td>\n",
       "      <td>HCI011</td>\n",
       "      <td>4</td>\n",
       "    </tr>\n",
       "    <tr>\n",
       "      <th>3202</th>\n",
       "      <td>192</td>\n",
       "      <td>BNIP3</td>\n",
       "      <td>HCI011</td>\n",
       "      <td>3</td>\n",
       "    </tr>\n",
       "    <tr>\n",
       "      <th>3203</th>\n",
       "      <td>193</td>\n",
       "      <td>DDIT4</td>\n",
       "      <td>HCI011</td>\n",
       "      <td>4</td>\n",
       "    </tr>\n",
       "    <tr>\n",
       "      <th>3204</th>\n",
       "      <td>194</td>\n",
       "      <td>GAPDH</td>\n",
       "      <td>HCI011</td>\n",
       "      <td>7</td>\n",
       "    </tr>\n",
       "    <tr>\n",
       "      <th>3205</th>\n",
       "      <td>195</td>\n",
       "      <td>HILPDA</td>\n",
       "      <td>HCI011</td>\n",
       "      <td>4</td>\n",
       "    </tr>\n",
       "  </tbody>\n",
       "</table>\n",
       "<p>3206 rows × 4 columns</p>\n",
       "</div>"
      ],
      "text/plain": [
       "      index      gene tumor_ID overlap\n",
       "0         0      PGK1   HCI001       4\n",
       "1         1   SELENON   HCI001       0\n",
       "2         2     SNRPB   HCI001       0\n",
       "3         3    SLC1A5   HCI001       0\n",
       "4         4  HSP90AA1   HCI001       0\n",
       "...     ...       ...      ...     ...\n",
       "3201    191      LDHA   HCI011       4\n",
       "3202    192     BNIP3   HCI011       3\n",
       "3203    193     DDIT4   HCI011       4\n",
       "3204    194     GAPDH   HCI011       7\n",
       "3205    195    HILPDA   HCI011       4\n",
       "\n",
       "[3206 rows x 4 columns]"
      ]
     },
     "execution_count": 14,
     "metadata": {},
     "output_type": "execute_result"
    }
   ],
   "source": [
    "tumor_genes_overlap_df_not_all = tumor_genes_overlap_df_not_all.reset_index()\n",
    "tumor_genes_overlap_df_not_all"
   ]
  },
  {
   "cell_type": "code",
   "execution_count": 15,
   "metadata": {},
   "outputs": [],
   "source": [
    "tumor_genes_overlap_df_not_all['overlap'] = tumor_genes_overlap_df_not_all['overlap'].astype(float)\n",
    "tumor_genes_overlap_df_not_all['overlap_range'] = tumor_genes_overlap_df_not_all['overlap']\n",
    "for i in tumor_genes_overlap_df_not_all.index:\n",
    "    if tumor_genes_overlap_df_not_all.loc[i, 'overlap'] >=4:\n",
    "        tumor_genes_overlap_df_not_all.loc[i, 'overlap_range'] = '>4'"
   ]
  },
  {
   "cell_type": "code",
   "execution_count": 16,
   "metadata": {},
   "outputs": [
    {
     "data": {
      "text/html": [
       "<div>\n",
       "<style scoped>\n",
       "    .dataframe tbody tr th:only-of-type {\n",
       "        vertical-align: middle;\n",
       "    }\n",
       "\n",
       "    .dataframe tbody tr th {\n",
       "        vertical-align: top;\n",
       "    }\n",
       "\n",
       "    .dataframe thead th {\n",
       "        text-align: right;\n",
       "    }\n",
       "</style>\n",
       "<table border=\"1\" class=\"dataframe\">\n",
       "  <thead>\n",
       "    <tr style=\"text-align: right;\">\n",
       "      <th></th>\n",
       "      <th>index</th>\n",
       "      <th>gene</th>\n",
       "      <th>tumor_ID</th>\n",
       "      <th>overlap</th>\n",
       "      <th>overlap_range</th>\n",
       "    </tr>\n",
       "  </thead>\n",
       "  <tbody>\n",
       "    <tr>\n",
       "      <th>0</th>\n",
       "      <td>0</td>\n",
       "      <td>PGK1</td>\n",
       "      <td>HCI001</td>\n",
       "      <td>4.0</td>\n",
       "      <td>&gt;4</td>\n",
       "    </tr>\n",
       "    <tr>\n",
       "      <th>1</th>\n",
       "      <td>1</td>\n",
       "      <td>SELENON</td>\n",
       "      <td>HCI001</td>\n",
       "      <td>0.0</td>\n",
       "      <td>0.0</td>\n",
       "    </tr>\n",
       "    <tr>\n",
       "      <th>2</th>\n",
       "      <td>2</td>\n",
       "      <td>SNRPB</td>\n",
       "      <td>HCI001</td>\n",
       "      <td>0.0</td>\n",
       "      <td>0.0</td>\n",
       "    </tr>\n",
       "    <tr>\n",
       "      <th>3</th>\n",
       "      <td>3</td>\n",
       "      <td>SLC1A5</td>\n",
       "      <td>HCI001</td>\n",
       "      <td>0.0</td>\n",
       "      <td>0.0</td>\n",
       "    </tr>\n",
       "    <tr>\n",
       "      <th>4</th>\n",
       "      <td>4</td>\n",
       "      <td>HSP90AA1</td>\n",
       "      <td>HCI001</td>\n",
       "      <td>0.0</td>\n",
       "      <td>0.0</td>\n",
       "    </tr>\n",
       "    <tr>\n",
       "      <th>...</th>\n",
       "      <td>...</td>\n",
       "      <td>...</td>\n",
       "      <td>...</td>\n",
       "      <td>...</td>\n",
       "      <td>...</td>\n",
       "    </tr>\n",
       "    <tr>\n",
       "      <th>3201</th>\n",
       "      <td>191</td>\n",
       "      <td>LDHA</td>\n",
       "      <td>HCI011</td>\n",
       "      <td>4.0</td>\n",
       "      <td>&gt;4</td>\n",
       "    </tr>\n",
       "    <tr>\n",
       "      <th>3202</th>\n",
       "      <td>192</td>\n",
       "      <td>BNIP3</td>\n",
       "      <td>HCI011</td>\n",
       "      <td>3.0</td>\n",
       "      <td>3.0</td>\n",
       "    </tr>\n",
       "    <tr>\n",
       "      <th>3203</th>\n",
       "      <td>193</td>\n",
       "      <td>DDIT4</td>\n",
       "      <td>HCI011</td>\n",
       "      <td>4.0</td>\n",
       "      <td>&gt;4</td>\n",
       "    </tr>\n",
       "    <tr>\n",
       "      <th>3204</th>\n",
       "      <td>194</td>\n",
       "      <td>GAPDH</td>\n",
       "      <td>HCI011</td>\n",
       "      <td>7.0</td>\n",
       "      <td>&gt;4</td>\n",
       "    </tr>\n",
       "    <tr>\n",
       "      <th>3205</th>\n",
       "      <td>195</td>\n",
       "      <td>HILPDA</td>\n",
       "      <td>HCI011</td>\n",
       "      <td>4.0</td>\n",
       "      <td>&gt;4</td>\n",
       "    </tr>\n",
       "  </tbody>\n",
       "</table>\n",
       "<p>3206 rows × 5 columns</p>\n",
       "</div>"
      ],
      "text/plain": [
       "      index      gene tumor_ID  overlap overlap_range\n",
       "0         0      PGK1   HCI001      4.0            >4\n",
       "1         1   SELENON   HCI001      0.0           0.0\n",
       "2         2     SNRPB   HCI001      0.0           0.0\n",
       "3         3    SLC1A5   HCI001      0.0           0.0\n",
       "4         4  HSP90AA1   HCI001      0.0           0.0\n",
       "...     ...       ...      ...      ...           ...\n",
       "3201    191      LDHA   HCI011      4.0            >4\n",
       "3202    192     BNIP3   HCI011      3.0           3.0\n",
       "3203    193     DDIT4   HCI011      4.0            >4\n",
       "3204    194     GAPDH   HCI011      7.0            >4\n",
       "3205    195    HILPDA   HCI011      4.0            >4\n",
       "\n",
       "[3206 rows x 5 columns]"
      ]
     },
     "execution_count": 16,
     "metadata": {},
     "output_type": "execute_result"
    }
   ],
   "source": [
    "tumor_genes_overlap_df_not_all"
   ]
  },
  {
   "cell_type": "code",
   "execution_count": 17,
   "metadata": {},
   "outputs": [],
   "source": [
    "cat_order = ['>4',3,2,1,0]\n",
    "\n",
    "tumor_genes_overlap_df_not_all['overlap_range'] = pd.Categorical(tumor_genes_overlap_df_not_all['overlap_range'], categories=cat_order, ordered=True)\n",
    "\n",
    "cat_order = ['HCI010','J53353','J2036','H5097','HCI001','HCI011','HCI009',\n",
    "             'H4272','H3204','HCI005','global']\n",
    "\n",
    "tumor_genes_overlap_df_not_all['tumor_ID'] = pd.Categorical(tumor_genes_overlap_df_not_all['tumor_ID'], categories=cat_order, ordered=True)"
   ]
  },
  {
   "cell_type": "code",
   "execution_count": 18,
   "metadata": {},
   "outputs": [],
   "source": [
    "tumor_genes_stacked_bar_plot_ref_not_all, tumor_genes_stacked_bar_plot_not_all = DEGs_stacked_bar_plots(tumor_genes_overlap_df_not_all,color=['#253494','#2c7fb8','#41b6c4','#a1dab4','#ffffcc'])"
   ]
  },
  {
   "cell_type": "code",
   "execution_count": 19,
   "metadata": {},
   "outputs": [
    {
     "name": "stderr",
     "output_type": "stream",
     "text": [
      "/home/weilun/anaconda3/lib/python3.8/site-packages/plotnine/ggplot.py:820: PlotnineWarning: Filename: tumor_genes_stacked_bar_plot(without_J55454_H5471)_ref.pdf\n"
     ]
    },
    {
     "data": {
      "image/png": "[encoded data removed]",
      "text/plain": [
       "<Figure size 200x1000 with 1 Axes>"
      ]
     },
     "metadata": {
      "needs_background": "light"
     },
     "output_type": "display_data"
    },
    {
     "data": {
      "text/plain": [
       "<ggplot: (8773972355850)>"
      ]
     },
     "execution_count": 19,
     "metadata": {},
     "output_type": "execute_result"
    }
   ],
   "source": [
    "save_as_pdf_pages([tumor_genes_stacked_bar_plot_ref_not_all],'tumor_genes_stacked_bar_plot(without_J55454_H5471)_ref.pdf')\n",
    "tumor_genes_stacked_bar_plot_ref_not_all"
   ]
  },
  {
   "cell_type": "code",
   "execution_count": 20,
   "metadata": {},
   "outputs": [
    {
     "name": "stderr",
     "output_type": "stream",
     "text": [
      "/home/weilun/anaconda3/lib/python3.8/site-packages/plotnine/ggplot.py:820: PlotnineWarning: Filename: tumor_genes_stacked_bar_plot(without_J55454_H5471).pdf\n"
     ]
    },
    {
     "data": {
      "image/png": "[encoded data removed]",
      "text/plain": [
       "<Figure size 200x1000 with 1 Axes>"
      ]
     },
     "metadata": {},
     "output_type": "display_data"
    },
    {
     "data": {
      "text/plain": [
       "<ggplot: (8773972329614)>"
      ]
     },
     "execution_count": 20,
     "metadata": {},
     "output_type": "execute_result"
    }
   ],
   "source": [
    "save_as_pdf_pages([tumor_genes_stacked_bar_plot_not_all],'tumor_genes_stacked_bar_plot(without_J55454_H5471).pdf')\n",
    "tumor_genes_stacked_bar_plot_not_all"
   ]
  },
  {
   "cell_type": "code",
   "execution_count": null,
   "metadata": {},
   "outputs": [],
   "source": []
  },
  {
   "cell_type": "code",
   "execution_count": 21,
   "metadata": {},
   "outputs": [
    {
     "data": {
      "text/html": [
       "<div>\n",
       "<style scoped>\n",
       "    .dataframe tbody tr th:only-of-type {\n",
       "        vertical-align: middle;\n",
       "    }\n",
       "\n",
       "    .dataframe tbody tr th {\n",
       "        vertical-align: top;\n",
       "    }\n",
       "\n",
       "    .dataframe thead th {\n",
       "        text-align: right;\n",
       "    }\n",
       "</style>\n",
       "<table border=\"1\" class=\"dataframe\">\n",
       "  <thead>\n",
       "    <tr style=\"text-align: right;\">\n",
       "      <th></th>\n",
       "      <th>index</th>\n",
       "      <th>gene</th>\n",
       "      <th>tumor_ID</th>\n",
       "      <th>overlap</th>\n",
       "      <th>overlap_range</th>\n",
       "    </tr>\n",
       "  </thead>\n",
       "  <tbody>\n",
       "    <tr>\n",
       "      <th>0</th>\n",
       "      <td>0</td>\n",
       "      <td>IGFBP3</td>\n",
       "      <td>HCI001</td>\n",
       "      <td>0.0</td>\n",
       "      <td>0</td>\n",
       "    </tr>\n",
       "    <tr>\n",
       "      <th>1</th>\n",
       "      <td>1</td>\n",
       "      <td>CHI3L1</td>\n",
       "      <td>HCI001</td>\n",
       "      <td>1.0</td>\n",
       "      <td>1</td>\n",
       "    </tr>\n",
       "    <tr>\n",
       "      <th>2</th>\n",
       "      <td>2</td>\n",
       "      <td>LALBA</td>\n",
       "      <td>HCI001</td>\n",
       "      <td>0.0</td>\n",
       "      <td>0</td>\n",
       "    </tr>\n",
       "    <tr>\n",
       "      <th>3</th>\n",
       "      <td>3</td>\n",
       "      <td>DDIT4</td>\n",
       "      <td>HCI001</td>\n",
       "      <td>0.0</td>\n",
       "      <td>0</td>\n",
       "    </tr>\n",
       "    <tr>\n",
       "      <th>4</th>\n",
       "      <td>4</td>\n",
       "      <td>FRZB</td>\n",
       "      <td>HCI001</td>\n",
       "      <td>0.0</td>\n",
       "      <td>0</td>\n",
       "    </tr>\n",
       "    <tr>\n",
       "      <th>...</th>\n",
       "      <td>...</td>\n",
       "      <td>...</td>\n",
       "      <td>...</td>\n",
       "      <td>...</td>\n",
       "      <td>...</td>\n",
       "    </tr>\n",
       "    <tr>\n",
       "      <th>2980</th>\n",
       "      <td>175</td>\n",
       "      <td>SCCPDH</td>\n",
       "      <td>HCI011</td>\n",
       "      <td>2.0</td>\n",
       "      <td>2</td>\n",
       "    </tr>\n",
       "    <tr>\n",
       "      <th>2981</th>\n",
       "      <td>176</td>\n",
       "      <td>STRAP</td>\n",
       "      <td>HCI011</td>\n",
       "      <td>1.0</td>\n",
       "      <td>1</td>\n",
       "    </tr>\n",
       "    <tr>\n",
       "      <th>2982</th>\n",
       "      <td>177</td>\n",
       "      <td>SUGT1</td>\n",
       "      <td>HCI011</td>\n",
       "      <td>0.0</td>\n",
       "      <td>0</td>\n",
       "    </tr>\n",
       "    <tr>\n",
       "      <th>2983</th>\n",
       "      <td>178</td>\n",
       "      <td>HERPUD1</td>\n",
       "      <td>HCI011</td>\n",
       "      <td>1.0</td>\n",
       "      <td>1</td>\n",
       "    </tr>\n",
       "    <tr>\n",
       "      <th>2984</th>\n",
       "      <td>179</td>\n",
       "      <td>EFEMP1</td>\n",
       "      <td>HCI011</td>\n",
       "      <td>1.0</td>\n",
       "      <td>1</td>\n",
       "    </tr>\n",
       "  </tbody>\n",
       "</table>\n",
       "<p>2985 rows × 5 columns</p>\n",
       "</div>"
      ],
      "text/plain": [
       "      index     gene tumor_ID  overlap overlap_range\n",
       "0         0   IGFBP3   HCI001      0.0             0\n",
       "1         1   CHI3L1   HCI001      1.0             1\n",
       "2         2    LALBA   HCI001      0.0             0\n",
       "3         3    DDIT4   HCI001      0.0             0\n",
       "4         4     FRZB   HCI001      0.0             0\n",
       "...     ...      ...      ...      ...           ...\n",
       "2980    175   SCCPDH   HCI011      2.0             2\n",
       "2981    176    STRAP   HCI011      1.0             1\n",
       "2982    177    SUGT1   HCI011      0.0             0\n",
       "2983    178  HERPUD1   HCI011      1.0             1\n",
       "2984    179   EFEMP1   HCI011      1.0             1\n",
       "\n",
       "[2985 rows x 5 columns]"
      ]
     },
     "execution_count": 21,
     "metadata": {},
     "output_type": "execute_result"
    }
   ],
   "source": [
    "met_genes_overlap_df_not_all"
   ]
  },
  {
   "cell_type": "code",
   "execution_count": 27,
   "metadata": {},
   "outputs": [
    {
     "data": {
      "text/plain": [
       "overlap\n",
       "0.0    56.515913\n",
       "1.0    23.584590\n",
       "2.0    10.552764\n",
       "3.0     4.958124\n",
       "4.0     2.177554\n",
       "5.0     1.005025\n",
       "6.0     0.938023\n",
       "7.0     0.268007\n",
       "dtype: float64"
      ]
     },
     "execution_count": 27,
     "metadata": {},
     "output_type": "execute_result"
    }
   ],
   "source": [
    "met_genes_overlap_df_not_all.groupby(['overlap']).apply(len)/(len(met_genes_overlap_df_not_all))*100"
   ]
  },
  {
   "cell_type": "code",
   "execution_count": 32,
   "metadata": {},
   "outputs": [
    {
     "data": {
      "text/plain": [
       "overlap_range\n",
       ">4     2.245789\n",
       "3      3.119152\n",
       "2      9.357455\n",
       "1     21.334997\n",
       "0     63.942608\n",
       "dtype: float64"
      ]
     },
     "execution_count": 32,
     "metadata": {},
     "output_type": "execute_result"
    }
   ],
   "source": [
    "tumor_genes_overlap_df_not_all.groupby(['overlap_range']).apply(len)/(len(tumor_genes_overlap_df_not_all))*100"
   ]
  },
  {
   "cell_type": "code",
   "execution_count": null,
   "metadata": {},
   "outputs": [],
   "source": []
  }
 ],
 "metadata": {
  "kernelspec": {
   "display_name": "Python 3",
   "language": "python",
   "name": "python3"
  },
  "language_info": {
   "codemirror_mode": {
    "name": "ipython",
    "version": 3
   },
   "file_extension": ".py",
   "mimetype": "text/x-python",
   "name": "python",
   "nbconvert_exporter": "python",
   "pygments_lexer": "ipython3",
   "version": "3.8.5"
  }
 },
 "nbformat": 4,
 "nbformat_minor": 4
}
