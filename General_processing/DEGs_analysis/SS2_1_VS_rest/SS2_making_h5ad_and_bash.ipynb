{
 "cells": [
  {
   "cell_type": "code",
   "execution_count": 1,
   "metadata": {},
   "outputs": [
    {
     "name": "stdout",
     "output_type": "stream",
     "text": [
      "scanpy==1.8.1 anndata==0.7.5 umap==0.5.1 numpy==1.21.0 scipy==1.6.2 pandas==1.2.3 scikit-learn==0.23.2 statsmodels==0.12.2 python-igraph==0.9.1 louvain==0.7.0 leidenalg==0.8.2 pynndescent==0.5.2\n"
     ]
    }
   ],
   "source": [
    "# importing python modules\n",
    "import numpy as np\n",
    "import pandas as pd\n",
    "import matplotlib.pyplot as plt\n",
    "import scanpy as sc\n",
    "\n",
    "%matplotlib inline\n",
    "sc.logging.print_header()"
   ]
  },
  {
   "cell_type": "code",
   "execution_count": 2,
   "metadata": {},
   "outputs": [],
   "source": [
    "adata = sc.read_h5ad('SS2_processed.h5ad')"
   ]
  },
  {
   "cell_type": "code",
   "execution_count": 3,
   "metadata": {},
   "outputs": [
    {
     "data": {
      "text/plain": [
       "AnnData object with n_obs × n_vars = 2090 × 34041\n",
       "    obs: 'plate_ID', 'well', 'cell_id', 'Tumor_ID', 'Animal_ID', 'receptor_status', 'ER_receptor', 'intrinsic_BC_type', 'metastatic_potential_rank', 'metastatic_potential_group', 'sort', 'n_counts', 'n_genes', 'percent_ERCC', 'percent_mito', 'percent_ribo', 'sequencing_batch', 'S_score', 'G2M_score', 'phase', 'louvain', 'leiden', 'E_score', 'M_score', 'EMP_score', 'EMP_stage'\n",
       "    var: 'n_cells', 'highly_variable', 'highly_variable_rank', 'means', 'variances', 'variances_norm', 'mean', 'std'\n",
       "    uns: 'EMP_stage_colors', 'ER_receptor_colors', 'Tumor_ID_colors', 'hvg', 'intrinsic_BC_type_colors', 'leiden', 'leiden_colors', 'louvain', 'louvain_colors', 'neighbors', 'pca', 'ranking_ID_colors', 'receptor_status_colors', 'umap'\n",
       "    obsm: 'X_pca', 'X_umap'\n",
       "    varm: 'PCs'\n",
       "    layers: 'log1p', 'raw_counts'\n",
       "    obsp: 'connectivities', 'distances'"
      ]
     },
     "execution_count": 3,
     "metadata": {},
     "output_type": "execute_result"
    }
   ],
   "source": [
    "adata"
   ]
  },
  {
   "cell_type": "code",
   "execution_count": 4,
   "metadata": {},
   "outputs": [
    {
     "data": {
      "text/plain": [
       "{'Metastatic', 'Tumor'}"
      ]
     },
     "execution_count": 4,
     "metadata": {},
     "output_type": "execute_result"
    }
   ],
   "source": [
    "set(adata.obs['sort'])"
   ]
  },
  {
   "cell_type": "code",
   "execution_count": 5,
   "metadata": {},
   "outputs": [
    {
     "name": "stderr",
     "output_type": "stream",
     "text": [
      "/home/weilun/anaconda3/lib/python3.8/site-packages/pandas/core/arrays/categorical.py:2487: FutureWarning: The `inplace` parameter in pandas.Categorical.remove_unused_categories is deprecated and will be removed in a future version.\n",
      "  res = method(*args, **kwargs)\n"
     ]
    },
    {
     "data": {
      "text/plain": [
       "View of AnnData object with n_obs × n_vars = 1395 × 34041\n",
       "    obs: 'plate_ID', 'well', 'cell_id', 'Tumor_ID', 'Animal_ID', 'receptor_status', 'ER_receptor', 'intrinsic_BC_type', 'metastatic_potential_rank', 'metastatic_potential_group', 'sort', 'n_counts', 'n_genes', 'percent_ERCC', 'percent_mito', 'percent_ribo', 'sequencing_batch', 'S_score', 'G2M_score', 'phase', 'louvain', 'leiden', 'E_score', 'M_score', 'EMP_score', 'EMP_stage'\n",
       "    var: 'n_cells', 'highly_variable', 'highly_variable_rank', 'means', 'variances', 'variances_norm', 'mean', 'std'\n",
       "    uns: 'EMP_stage_colors', 'ER_receptor_colors', 'Tumor_ID_colors', 'hvg', 'intrinsic_BC_type_colors', 'leiden', 'leiden_colors', 'louvain', 'louvain_colors', 'neighbors', 'pca', 'ranking_ID_colors', 'receptor_status_colors', 'umap'\n",
       "    obsm: 'X_pca', 'X_umap'\n",
       "    varm: 'PCs'\n",
       "    layers: 'log1p', 'raw_counts'\n",
       "    obsp: 'connectivities', 'distances'"
      ]
     },
     "execution_count": 5,
     "metadata": {},
     "output_type": "execute_result"
    }
   ],
   "source": [
    "adata_tumor = adata[adata.obs['sort'] == 'Tumor']\n",
    "adata_tumor"
   ]
  },
  {
   "cell_type": "code",
   "execution_count": 8,
   "metadata": {},
   "outputs": [],
   "source": [
    "bash_file = open(\"SS2_1_vs_rest.sh\", \"w\")\n",
    "for group in set(adata_tumor.obs['metastatic_potential_group']):\n",
    "    sub_adata_group = adata_tumor[adata_tumor.obs['metastatic_potential_group'] == group].copy()\n",
    "    for tumor in set(sub_adata_group.obs['Tumor_ID']):\n",
    "        sub_adata_tumors = sub_adata_group[~sub_adata_group.obs['Tumor_ID'].isin([tumor])].copy()\n",
    "        final_sub = adata_tumor[~adata_tumor.obs.index.isin(sub_adata_tumors.obs.index)].copy()\n",
    "        final_sub.write_h5ad('SS2_'+tumor+'_vs_rest.h5ad')\n",
    "        bash_file.write('Rscript single_tumor_vs_other_groups.R SS2_'+tumor+'_vs_rest.h5ad SS2_'+tumor+'_vs_rest.h5seurat '+tumor+' '+group)\n",
    "        bash_file.write(\"\\n\")"
   ]
  },
  {
   "cell_type": "code",
   "execution_count": null,
   "metadata": {},
   "outputs": [],
   "source": []
  }
 ],
 "metadata": {
  "kernelspec": {
   "display_name": "Python 3",
   "language": "python",
   "name": "python3"
  },
  "language_info": {
   "codemirror_mode": {
    "name": "ipython",
    "version": 3
   },
   "file_extension": ".py",
   "mimetype": "text/x-python",
   "name": "python",
   "nbconvert_exporter": "python",
   "pygments_lexer": "ipython3",
   "version": "3.8.5"
  }
 },
 "nbformat": 4,
 "nbformat_minor": 4
}
