{
 "cells": [
  {
   "cell_type": "code",
   "execution_count": 1,
   "metadata": {},
   "outputs": [],
   "source": [
    "import scanpy as sc\n",
    "import pandas as pd \n",
    "import seaborn as sns\n",
    "from sklearn.metrics import roc_curve, auc, roc_auc_score\n",
    "import matplotlib.pyplot as plt\n",
    "from plotnine import * \n",
    "from plotnine.data import mtcars"
   ]
  },
  {
   "cell_type": "code",
   "execution_count": 2,
   "metadata": {},
   "outputs": [],
   "source": [
    "SS2_adata = sc.read_h5ad('SS2_processed.h5ad')"
   ]
  },
  {
   "cell_type": "markdown",
   "metadata": {},
   "source": [
    "# making ROC curve and calculating AUC value"
   ]
  },
  {
   "cell_type": "code",
   "execution_count": 3,
   "metadata": {},
   "outputs": [],
   "source": [
    "def auc_value(adata, group = 'sort', label_1 = 'Tumor', label_2 = 'Metastatic', pc_num = 1):\n",
    "    df_loadings = pd.DataFrame(adata.obsm['X_pca'], index=adata.obs_names)[[pc_num]]\n",
    "    df_loadings['label'] = \"\"\n",
    "    for j in df_loadings.index:\n",
    "        sort = adata.obs.loc[j, group]\n",
    "        if sort == label_1:\n",
    "            df_loadings.loc[j, 'label'] = 0\n",
    "        elif sort == label_2:\n",
    "            df_loadings.loc[j, 'label'] = 1\n",
    "            \n",
    "    false_positive_rate, true_positive_rate, threshold1 = roc_curve(df_loadings['label'].tolist(), df_loadings[pc_num].tolist())\n",
    "    \n",
    "    auc = roc_auc_score(df_loadings['label'].tolist(),df_loadings[pc_num].tolist())\n",
    "    \n",
    "    return false_positive_rate, true_positive_rate, auc"
   ]
  },
  {
   "cell_type": "code",
   "execution_count": 4,
   "metadata": {},
   "outputs": [],
   "source": [
    "def auc_value_switch_labels(adata, group = 'sort', label_1 = 'Tumor', label_2 = 'Metastatic', pc_num = 1):\n",
    "    df_loadings = pd.DataFrame(adata.obsm['X_pca'], index=adata.obs_names)[[pc_num]]\n",
    "    df_loadings['label'] = \"\"\n",
    "    for j in df_loadings.index:\n",
    "        sort = adata.obs.loc[j, group]\n",
    "        if sort == label_1:\n",
    "            df_loadings.loc[j, 'label'] = 1\n",
    "        elif sort == label_2:\n",
    "            df_loadings.loc[j, 'label'] = 0\n",
    "            \n",
    "    false_positive_rate, true_positive_rate, threshold1 = roc_curve(df_loadings['label'].tolist(), df_loadings[pc_num].tolist())\n",
    "    \n",
    "    auc = roc_auc_score(df_loadings['label'].tolist(),df_loadings[pc_num].tolist())\n",
    "    \n",
    "    return false_positive_rate, true_positive_rate, auc"
   ]
  },
  {
   "cell_type": "code",
   "execution_count": 5,
   "metadata": {},
   "outputs": [],
   "source": [
    "def ROC_curve(false_positive_rate, true_positive_rate, tumor_ID):\n",
    "\n",
    "    \n",
    "    plt.figure(figsize=(5, 5), dpi=50)\n",
    "        \n",
    "    lw = 2\n",
    "    plt.plot(false_positive_rate, true_positive_rate, color='black',\n",
    "         lw=lw)\n",
    "    plt.plot([0, 1], [0, 1], color='gray', lw=lw, linestyle='--')\n",
    "    plt.xlim([0.0, 1.0])\n",
    "    plt.ylim([0.0, 1.05])\n",
    "    plt.xlabel('')\n",
    "    plt.ylabel('')\n",
    "    plt.title('')\n",
    "\n",
    "#     plt.yaxis.grid(False)\n",
    "#     plt.xaxis.grid(False)\n",
    "    \n",
    "\n",
    "    plt.tick_params(labelleft=True,labelbottom=True)\n",
    "\n",
    "    plt.savefig('ROC_'+tumor_ID+'.pdf')\n",
    "    plt.show()\n",
    "\n",
    "    \n"
   ]
  },
  {
   "cell_type": "code",
   "execution_count": 6,
   "metadata": {},
   "outputs": [
    {
     "data": {
      "image/png": "[encoded data removed]",
      "text/plain": [
       "<Figure size 250x250 with 1 Axes>"
      ]
     },
     "metadata": {
      "needs_background": "light"
     },
     "output_type": "display_data"
    },
    {
     "data": {
      "image/png": "[encoded data removed]",
      "text/plain": [
       "<Figure size 250x250 with 1 Axes>"
      ]
     },
     "metadata": {
      "needs_background": "light"
     },
     "output_type": "display_data"
    }
   ],
   "source": [
    "aut_df = pd.DataFrame(index=['ER_receptor','subtype'],columns=['AUC_value'])\n",
    "\n",
    "# for ER receptor\n",
    "\n",
    "false_positive_rate1, true_positive_rate1, auc1 = auc_value(SS2_adata, group = 'ER_receptor', label_1 = 'ER+', label_2 = 'ER-', pc_num = 0)\n",
    "false_positive_rate2, true_positive_rate2, auc2 = auc_value_switch_labels(SS2_adata, group = 'ER_receptor', label_1 = 'ER+', label_2 = 'ER-', pc_num = 0)\n",
    "        \n",
    "if auc1 > auc2:\n",
    "    ROC_curve(false_positive_rate1, true_positive_rate1, tumor_ID='SS2_global_ER_receptor')\n",
    "    aut_df.loc['ER_receptor', 'AUC_value'] = auc1\n",
    "else:\n",
    "    ROC_curve(false_positive_rate2, true_positive_rate2, tumor_ID='SS2_global_ER_receptor')\n",
    "    aut_df.loc['ER_receptor', 'AUC_value'] = auc2\n",
    "\n",
    "\n",
    "# for subtype\n",
    "\n",
    "false_positive_rate1, true_positive_rate1, auc1 = auc_value(SS2_adata, group = 'intrinsic_BC_type', label_1 = 'basal', label_2 = 'luminal B', pc_num = 0)\n",
    "false_positive_rate2, true_positive_rate2, auc2 = auc_value_switch_labels(SS2_adata, group = 'intrinsic_BC_type', label_1 = 'basal', label_2 = 'luminal B', pc_num = 0)\n",
    "        \n",
    "if auc1 > auc2:\n",
    "    ROC_curve(false_positive_rate1, true_positive_rate1, tumor_ID='SS2_global_subtype')\n",
    "    aut_df.loc['subtype', 'AUC_value'] = auc1\n",
    "else:\n",
    "    ROC_curve(false_positive_rate2, true_positive_rate2, tumor_ID='SS2_global_subtype')\n",
    "    aut_df.loc['subtype', 'AUC_value'] = auc2"
   ]
  },
  {
   "cell_type": "code",
   "execution_count": 7,
   "metadata": {},
   "outputs": [],
   "source": [
    "aut_df.to_csv('SS2_ER_receptor_subtype_auc_value.csv')"
   ]
  },
  {
   "cell_type": "code",
   "execution_count": null,
   "metadata": {},
   "outputs": [],
   "source": []
  }
 ],
 "metadata": {
  "kernelspec": {
   "display_name": "Python 3",
   "language": "python",
   "name": "python3"
  },
  "language_info": {
   "codemirror_mode": {
    "name": "ipython",
    "version": 3
   },
   "file_extension": ".py",
   "mimetype": "text/x-python",
   "name": "python",
   "nbconvert_exporter": "python",
   "pygments_lexer": "ipython3",
   "version": "3.8.5"
  }
 },
 "nbformat": 4,
 "nbformat_minor": 4
}
