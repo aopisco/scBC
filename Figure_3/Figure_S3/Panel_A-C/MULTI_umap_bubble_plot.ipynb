{
 "cells": [
  {
   "cell_type": "code",
   "execution_count": 1,
   "metadata": {},
   "outputs": [
    {
     "name": "stdout",
     "output_type": "stream",
     "text": [
      "scanpy==1.8.1 anndata==0.7.5 umap==0.5.1 numpy==1.21.0 scipy==1.6.2 pandas==1.2.3 scikit-learn==0.23.2 statsmodels==0.12.2 python-igraph==0.9.1 louvain==0.7.0 leidenalg==0.8.2 pynndescent==0.5.2\n"
     ]
    }
   ],
   "source": [
    "# importing python modules\n",
    "import numpy as np\n",
    "import pandas as pd\n",
    "import matplotlib.pyplot as plt\n",
    "import scanpy as sc\n",
    "import anndata\n",
    "from plotnine import * \n",
    "from plotnine.data import mtcars\n",
    "import venn\n",
    "from scipy import stats\n",
    "import seaborn as sns\n",
    "import math\n",
    "from scipy.stats import pearsonr\n",
    "import abc\n",
    "import batchglm.api as glm\n",
    "import logging\n",
    "import patsy\n",
    "from random import sample\n",
    "import scipy.sparse\n",
    "from typing import Union, Dict, Tuple, List, Set\n",
    "import math\n",
    "from anndata import AnnData\n",
    "from typing import Optional, Union, Mapping  # Special\n",
    "from typing import Sequence, Collection, Iterable  # ABCs\n",
    "_VarNames = Union[str, Sequence[str]]\n",
    "\n",
    "%matplotlib inline\n",
    "sc.logging.print_header()"
   ]
  },
  {
   "cell_type": "markdown",
   "metadata": {},
   "source": [
    "# Anndata to DF function"
   ]
  },
  {
   "cell_type": "code",
   "execution_count": 2,
   "metadata": {
    "heading_collapsed": "false"
   },
   "outputs": [],
   "source": [
    "from pandas.api.types import is_categorical_dtype"
   ]
  },
  {
   "cell_type": "code",
   "execution_count": 3,
   "metadata": {
    "heading_collapsed": "false"
   },
   "outputs": [],
   "source": [
    "def sanitize_anndata(adata):\n",
    "    adata._sanitize()"
   ]
  },
  {
   "cell_type": "code",
   "execution_count": 4,
   "metadata": {
    "heading_collapsed": "false"
   },
   "outputs": [],
   "source": [
    "def sc_prepare_dataframe(\n",
    "    adata: AnnData,\n",
    "    var_names: Union[_VarNames, Mapping[str, _VarNames]],\n",
    "    groupby: Optional[str] = None,\n",
    "    use_raw: Optional[bool] = None,\n",
    "    log: bool = False,\n",
    "    num_categories: int = 7,\n",
    "    layer=None,\n",
    "    gene_symbols: Optional[str] = None,\n",
    "):\n",
    "    \"\"\"\n",
    "    Given the anndata object, prepares a data frame in which the row index are the categories\n",
    "    defined by group by and the columns correspond to var_names.\n",
    "    Parameters\n",
    "    ----------\n",
    "    adata\n",
    "        Annotated data matrix.\n",
    "    var_names\n",
    "        `var_names` should be a valid subset of  `adata.var_names`.\n",
    "    groupby\n",
    "        The key of the observation grouping to consider. It is expected that\n",
    "        groupby is a categorical. If groupby is not a categorical observation,\n",
    "        it would be subdivided into `num_categories`.\n",
    "    use_raw\n",
    "        Use `raw` attribute of `adata` if present.\n",
    "    log\n",
    "        Use the log of the values\n",
    "    num_categories\n",
    "        Only used if groupby observation is not categorical. This value\n",
    "        determines the number of groups into which the groupby observation\n",
    "        should be subdivided.\n",
    "    gene_symbols\n",
    "        Key for field in .var that stores gene symbols.\n",
    "    Returns\n",
    "    -------\n",
    "    Tuple of `pandas.DataFrame` and list of categories.\n",
    "    \"\"\"\n",
    "    from scipy.sparse import issparse\n",
    "\n",
    "    sanitize_anndata(adata)\n",
    "    if use_raw is None and adata.raw is not None:\n",
    "        use_raw = True\n",
    "    if isinstance(var_names, str):\n",
    "        var_names = [var_names]\n",
    "\n",
    "    if groupby is not None:\n",
    "        if groupby not in adata.obs_keys():\n",
    "            raise ValueError(\n",
    "                'groupby has to be a valid observation. '\n",
    "                f'Given {groupby}, valid observations: {adata.obs_keys()}'\n",
    "            )\n",
    "\n",
    "    if gene_symbols is not None and gene_symbols in adata.var.columns:\n",
    "        # translate gene_symbols to var_names\n",
    "        # slow method but gives a meaningful error if no gene symbol is found:\n",
    "        translated_var_names = []\n",
    "        for symbol in var_names:\n",
    "            if symbol not in adata.var[gene_symbols].values:\n",
    "                logg.error(\n",
    "                    f\"Gene symbol {symbol!r} not found in given \"\n",
    "                    f\"gene_symbols column: {gene_symbols!r}\"\n",
    "                )\n",
    "                return\n",
    "            translated_var_names.append(\n",
    "                adata.var[adata.var[gene_symbols] == symbol].index[0]\n",
    "            )\n",
    "        symbols = var_names\n",
    "        var_names = translated_var_names\n",
    "    if layer is not None:\n",
    "        if layer not in adata.layers.keys():\n",
    "            raise KeyError(\n",
    "                f'Selected layer: {layer} is not in the layers list. '\n",
    "                f'The list of valid layers is: {adata.layers.keys()}'\n",
    "            )\n",
    "        matrix = adata[:, var_names].layers[layer]\n",
    "    elif use_raw:\n",
    "        matrix = adata.raw[:, var_names].X\n",
    "    else:\n",
    "        matrix = adata[:, var_names].X\n",
    "\n",
    "    if issparse(matrix):\n",
    "        matrix = matrix.toarray()\n",
    "    if log:\n",
    "        matrix = np.log1p(matrix)\n",
    "\n",
    "    obs_tidy = pd.DataFrame(matrix, columns=var_names)\n",
    "    if groupby is None:\n",
    "        groupby = ''\n",
    "        categorical = pd.Series(np.repeat('', len(obs_tidy))).astype('category')\n",
    "    else:\n",
    "        if not is_categorical_dtype(adata.obs[groupby]):\n",
    "            # if the groupby column is not categorical, turn it into one\n",
    "            # by subdividing into  `num_categories` categories\n",
    "            categorical = pd.cut(adata.obs[groupby], num_categories)\n",
    "        else:\n",
    "            categorical = adata.obs[groupby]\n",
    "\n",
    "    obs_tidy.set_index(categorical, groupby, inplace=True)\n",
    "    if gene_symbols is not None:\n",
    "        # translate the column names to the symbol names\n",
    "        obs_tidy.rename(\n",
    "            columns=dict([(var_names[x], symbols[x]) for x in range(len(var_names))]),\n",
    "            inplace=True,\n",
    "        )\n",
    "    categories = obs_tidy.index.categories\n",
    "\n",
    "    return categories, obs_tidy\n"
   ]
  },
  {
   "cell_type": "markdown",
   "metadata": {},
   "source": [
    "# Making MULTI-seq umap"
   ]
  },
  {
   "cell_type": "code",
   "execution_count": 5,
   "metadata": {},
   "outputs": [],
   "source": [
    "adata_processed = sc.read_h5ad('MULTI_processed.h5ad')"
   ]
  },
  {
   "cell_type": "code",
   "execution_count": 6,
   "metadata": {},
   "outputs": [
    {
     "data": {
      "text/plain": [
       "AnnData object with n_obs × n_vars = 16862 × 21638\n",
       "    obs: 'n_counts', 'n_genes', 'percent_mito', 'MULTI_barcode', 'MULTI_tumor_ID', 'MULTI_sort', 'Tumor_ID', 'run_id', 'sequencing_batch', 'sort', 'receptor_status', 'ER_receptor', 'intrinsic_BC_type', 'ranking_ID', 'metastatic_potential_rank', 'metastatic_potential_group', 'S_score', 'G2M_score', 'phase', 'louvain', 'leiden', 'E_score', 'M_score', 'EMP_score', 'EMP_stage'\n",
       "    var: 'n_cells', 'highly_variable', 'highly_variable_rank', 'means', 'variances', 'variances_norm', 'mean', 'std'\n",
       "    uns: 'EMP_stage_colors', 'ER_receptor_colors', 'Tumor_ID_colors', 'hvg', 'intrinsic_BC_type_colors', 'leiden', 'louvain', 'neighbors', 'pca', 'ranking_ID_colors', 'run_id_colors', 'sort_colors', 'umap'\n",
       "    obsm: 'X_pca', 'X_umap'\n",
       "    varm: 'PCs'\n",
       "    layers: 'decontX_counts', 'log1p', 'raw_counts'\n",
       "    obsp: 'connectivities', 'distances'"
      ]
     },
     "execution_count": 6,
     "metadata": {},
     "output_type": "execute_result"
    }
   ],
   "source": [
    "adata_processed"
   ]
  },
  {
   "cell_type": "code",
   "execution_count": 7,
   "metadata": {},
   "outputs": [
    {
     "name": "stdout",
     "output_type": "stream",
     "text": [
      "WARNING: saving figure to file figures/umap_MULTI_global_Tumor_ID_dot_szie_5_2X2.pdf\n"
     ]
    },
    {
     "data": {
      "text/plain": [
       "<AxesSubplot:xlabel='UMAP1', ylabel='UMAP2'>"
      ]
     },
     "execution_count": 7,
     "metadata": {},
     "output_type": "execute_result"
    }
   ],
   "source": [
    "sc.pl.umap(adata_processed, color=['Tumor_ID'],frameon=False,legend_loc=None,title=\"\",size=5,show=False,save=\"_MULTI_global_Tumor_ID_dot_szie_5_2X2.pdf\")"
   ]
  },
  {
   "cell_type": "code",
   "execution_count": 8,
   "metadata": {},
   "outputs": [
    {
     "name": "stdout",
     "output_type": "stream",
     "text": [
      "WARNING: saving figure to file figures/umap_MULTI_global_ER_receptor_dot_szie_5_2X2.pdf\n"
     ]
    },
    {
     "data": {
      "text/plain": [
       "<AxesSubplot:xlabel='UMAP1', ylabel='UMAP2'>"
      ]
     },
     "execution_count": 8,
     "metadata": {},
     "output_type": "execute_result"
    }
   ],
   "source": [
    "sc.pl.umap(adata_processed, color=['ER_receptor'],frameon=False,legend_loc=None,title=\"\",size=5,show=False,save=\"_MULTI_global_ER_receptor_dot_szie_5_2X2.pdf\")"
   ]
  },
  {
   "cell_type": "markdown",
   "metadata": {},
   "source": [
    "# making bubble plot for SS2"
   ]
  },
  {
   "cell_type": "code",
   "execution_count": 9,
   "metadata": {},
   "outputs": [],
   "source": [
    "def calculate_cell_fraction_on_genes_df(df):\n",
    "    df_final = pd.DataFrame()\n",
    "    for i in df.columns.tolist():\n",
    "        temp_df_initial = df[[i]].rename(columns={i: 'expression'})\n",
    "        temp_df = temp_df_initial.groupby(level=0).mean()\n",
    "        temp_df['fraction'] = (temp_df_initial[temp_df_initial['expression'] > 0].groupby(level=0).count())/(temp_df_initial.groupby(level=0).count())*100\n",
    "        temp_df['gene'] = i\n",
    "        df_final = df_final.append(temp_df)\n",
    "    \n",
    "        \n",
    "    return df_final"
   ]
  },
  {
   "cell_type": "code",
   "execution_count": 10,
   "metadata": {},
   "outputs": [],
   "source": [
    "tumor_expression_df = sc_prepare_dataframe(adata_processed, ['ESR1','PGR','ERBB2','AR'], groupby='Tumor_ID',use_raw=True)"
   ]
  },
  {
   "cell_type": "code",
   "execution_count": 11,
   "metadata": {},
   "outputs": [],
   "source": [
    "final_plot_df = calculate_cell_fraction_on_genes_df(tumor_expression_df[1])"
   ]
  },
  {
   "cell_type": "code",
   "execution_count": 12,
   "metadata": {},
   "outputs": [
    {
     "data": {
      "text/html": [
       "<div>\n",
       "<style scoped>\n",
       "    .dataframe tbody tr th:only-of-type {\n",
       "        vertical-align: middle;\n",
       "    }\n",
       "\n",
       "    .dataframe tbody tr th {\n",
       "        vertical-align: top;\n",
       "    }\n",
       "\n",
       "    .dataframe thead th {\n",
       "        text-align: right;\n",
       "    }\n",
       "</style>\n",
       "<table border=\"1\" class=\"dataframe\">\n",
       "  <thead>\n",
       "    <tr style=\"text-align: right;\">\n",
       "      <th></th>\n",
       "      <th>expression</th>\n",
       "      <th>fraction</th>\n",
       "      <th>gene</th>\n",
       "      <th>Tumor_ID</th>\n",
       "    </tr>\n",
       "    <tr>\n",
       "      <th>Tumor_ID</th>\n",
       "      <th></th>\n",
       "      <th></th>\n",
       "      <th></th>\n",
       "      <th></th>\n",
       "    </tr>\n",
       "  </thead>\n",
       "  <tbody>\n",
       "    <tr>\n",
       "      <th>H4272</th>\n",
       "      <td>9.315320e-02</td>\n",
       "      <td>10.297030</td>\n",
       "      <td>ESR1</td>\n",
       "      <td>H4272</td>\n",
       "    </tr>\n",
       "    <tr>\n",
       "      <th>H5097</th>\n",
       "      <td>8.284061e-02</td>\n",
       "      <td>10.852713</td>\n",
       "      <td>ESR1</td>\n",
       "      <td>H5097</td>\n",
       "    </tr>\n",
       "    <tr>\n",
       "      <th>HCI001</th>\n",
       "      <td>8.945062e-03</td>\n",
       "      <td>3.367876</td>\n",
       "      <td>ESR1</td>\n",
       "      <td>HCI001</td>\n",
       "    </tr>\n",
       "    <tr>\n",
       "      <th>HCI002</th>\n",
       "      <td>8.789927e-03</td>\n",
       "      <td>1.078167</td>\n",
       "      <td>ESR1</td>\n",
       "      <td>HCI002</td>\n",
       "    </tr>\n",
       "    <tr>\n",
       "      <th>HCI005</th>\n",
       "      <td>4.061648e-01</td>\n",
       "      <td>40.083218</td>\n",
       "      <td>ESR1</td>\n",
       "      <td>HCI005</td>\n",
       "    </tr>\n",
       "    <tr>\n",
       "      <th>HCI010</th>\n",
       "      <td>0.000000e+00</td>\n",
       "      <td>0.000000</td>\n",
       "      <td>ESR1</td>\n",
       "      <td>HCI010</td>\n",
       "    </tr>\n",
       "    <tr>\n",
       "      <th>HCI011</th>\n",
       "      <td>7.313884e-01</td>\n",
       "      <td>62.006403</td>\n",
       "      <td>ESR1</td>\n",
       "      <td>HCI011</td>\n",
       "    </tr>\n",
       "    <tr>\n",
       "      <th>J2036</th>\n",
       "      <td>0.000000e+00</td>\n",
       "      <td>0.000000</td>\n",
       "      <td>ESR1</td>\n",
       "      <td>J2036</td>\n",
       "    </tr>\n",
       "    <tr>\n",
       "      <th>J53353</th>\n",
       "      <td>1.379474e-04</td>\n",
       "      <td>1.670236</td>\n",
       "      <td>ESR1</td>\n",
       "      <td>J53353</td>\n",
       "    </tr>\n",
       "    <tr>\n",
       "      <th>J55454</th>\n",
       "      <td>2.163487e-02</td>\n",
       "      <td>3.184713</td>\n",
       "      <td>ESR1</td>\n",
       "      <td>J55454</td>\n",
       "    </tr>\n",
       "    <tr>\n",
       "      <th>H4272</th>\n",
       "      <td>1.816764e-04</td>\n",
       "      <td>0.049505</td>\n",
       "      <td>PGR</td>\n",
       "      <td>H4272</td>\n",
       "    </tr>\n",
       "    <tr>\n",
       "      <th>H5097</th>\n",
       "      <td>5.053560e-02</td>\n",
       "      <td>6.589147</td>\n",
       "      <td>PGR</td>\n",
       "      <td>H5097</td>\n",
       "    </tr>\n",
       "    <tr>\n",
       "      <th>HCI001</th>\n",
       "      <td>1.739822e-04</td>\n",
       "      <td>0.064767</td>\n",
       "      <td>PGR</td>\n",
       "      <td>HCI001</td>\n",
       "    </tr>\n",
       "    <tr>\n",
       "      <th>HCI002</th>\n",
       "      <td>0.000000e+00</td>\n",
       "      <td>0.000000</td>\n",
       "      <td>PGR</td>\n",
       "      <td>HCI002</td>\n",
       "    </tr>\n",
       "    <tr>\n",
       "      <th>HCI005</th>\n",
       "      <td>1.744808e-01</td>\n",
       "      <td>18.169209</td>\n",
       "      <td>PGR</td>\n",
       "      <td>HCI005</td>\n",
       "    </tr>\n",
       "    <tr>\n",
       "      <th>HCI010</th>\n",
       "      <td>1.786073e-02</td>\n",
       "      <td>1.770891</td>\n",
       "      <td>PGR</td>\n",
       "      <td>HCI010</td>\n",
       "    </tr>\n",
       "    <tr>\n",
       "      <th>HCI011</th>\n",
       "      <td>1.499453e-03</td>\n",
       "      <td>0.213447</td>\n",
       "      <td>PGR</td>\n",
       "      <td>HCI011</td>\n",
       "    </tr>\n",
       "    <tr>\n",
       "      <th>J2036</th>\n",
       "      <td>0.000000e+00</td>\n",
       "      <td>0.000000</td>\n",
       "      <td>PGR</td>\n",
       "      <td>J2036</td>\n",
       "    </tr>\n",
       "    <tr>\n",
       "      <th>J53353</th>\n",
       "      <td>1.038579e-16</td>\n",
       "      <td>0.449679</td>\n",
       "      <td>PGR</td>\n",
       "      <td>J53353</td>\n",
       "    </tr>\n",
       "    <tr>\n",
       "      <th>J55454</th>\n",
       "      <td>0.000000e+00</td>\n",
       "      <td>0.000000</td>\n",
       "      <td>PGR</td>\n",
       "      <td>J55454</td>\n",
       "    </tr>\n",
       "    <tr>\n",
       "      <th>H4272</th>\n",
       "      <td>3.408133e-01</td>\n",
       "      <td>33.589109</td>\n",
       "      <td>ERBB2</td>\n",
       "      <td>H4272</td>\n",
       "    </tr>\n",
       "    <tr>\n",
       "      <th>H5097</th>\n",
       "      <td>1.780791e-01</td>\n",
       "      <td>20.930233</td>\n",
       "      <td>ERBB2</td>\n",
       "      <td>H5097</td>\n",
       "    </tr>\n",
       "    <tr>\n",
       "      <th>HCI001</th>\n",
       "      <td>1.347637e-01</td>\n",
       "      <td>27.202073</td>\n",
       "      <td>ERBB2</td>\n",
       "      <td>HCI001</td>\n",
       "    </tr>\n",
       "    <tr>\n",
       "      <th>HCI002</th>\n",
       "      <td>1.527078e-01</td>\n",
       "      <td>15.363881</td>\n",
       "      <td>ERBB2</td>\n",
       "      <td>HCI002</td>\n",
       "    </tr>\n",
       "    <tr>\n",
       "      <th>HCI005</th>\n",
       "      <td>4.574935e-01</td>\n",
       "      <td>43.619972</td>\n",
       "      <td>ERBB2</td>\n",
       "      <td>HCI005</td>\n",
       "    </tr>\n",
       "    <tr>\n",
       "      <th>HCI010</th>\n",
       "      <td>6.010878e-02</td>\n",
       "      <td>7.415606</td>\n",
       "      <td>ERBB2</td>\n",
       "      <td>HCI010</td>\n",
       "    </tr>\n",
       "    <tr>\n",
       "      <th>HCI011</th>\n",
       "      <td>3.070299e-01</td>\n",
       "      <td>32.977588</td>\n",
       "      <td>ERBB2</td>\n",
       "      <td>HCI011</td>\n",
       "    </tr>\n",
       "    <tr>\n",
       "      <th>J2036</th>\n",
       "      <td>2.141877e-01</td>\n",
       "      <td>23.913043</td>\n",
       "      <td>ERBB2</td>\n",
       "      <td>J2036</td>\n",
       "    </tr>\n",
       "    <tr>\n",
       "      <th>J53353</th>\n",
       "      <td>1.627812e-01</td>\n",
       "      <td>35.417559</td>\n",
       "      <td>ERBB2</td>\n",
       "      <td>J53353</td>\n",
       "    </tr>\n",
       "    <tr>\n",
       "      <th>J55454</th>\n",
       "      <td>6.732185e-01</td>\n",
       "      <td>50.318471</td>\n",
       "      <td>ERBB2</td>\n",
       "      <td>J55454</td>\n",
       "    </tr>\n",
       "    <tr>\n",
       "      <th>H4272</th>\n",
       "      <td>0.000000e+00</td>\n",
       "      <td>0.000000</td>\n",
       "      <td>AR</td>\n",
       "      <td>H4272</td>\n",
       "    </tr>\n",
       "    <tr>\n",
       "      <th>H5097</th>\n",
       "      <td>1.123517e-01</td>\n",
       "      <td>15.503876</td>\n",
       "      <td>AR</td>\n",
       "      <td>H5097</td>\n",
       "    </tr>\n",
       "    <tr>\n",
       "      <th>HCI001</th>\n",
       "      <td>1.153118e-02</td>\n",
       "      <td>2.590674</td>\n",
       "      <td>AR</td>\n",
       "      <td>HCI001</td>\n",
       "    </tr>\n",
       "    <tr>\n",
       "      <th>HCI002</th>\n",
       "      <td>0.000000e+00</td>\n",
       "      <td>0.000000</td>\n",
       "      <td>AR</td>\n",
       "      <td>HCI002</td>\n",
       "    </tr>\n",
       "    <tr>\n",
       "      <th>HCI005</th>\n",
       "      <td>3.393467e-01</td>\n",
       "      <td>34.396671</td>\n",
       "      <td>AR</td>\n",
       "      <td>HCI005</td>\n",
       "    </tr>\n",
       "    <tr>\n",
       "      <th>HCI010</th>\n",
       "      <td>5.053814e-04</td>\n",
       "      <td>0.055340</td>\n",
       "      <td>AR</td>\n",
       "      <td>HCI010</td>\n",
       "    </tr>\n",
       "    <tr>\n",
       "      <th>HCI011</th>\n",
       "      <td>9.438793e-02</td>\n",
       "      <td>10.032017</td>\n",
       "      <td>AR</td>\n",
       "      <td>HCI011</td>\n",
       "    </tr>\n",
       "    <tr>\n",
       "      <th>J2036</th>\n",
       "      <td>0.000000e+00</td>\n",
       "      <td>0.000000</td>\n",
       "      <td>AR</td>\n",
       "      <td>J2036</td>\n",
       "    </tr>\n",
       "    <tr>\n",
       "      <th>J53353</th>\n",
       "      <td>2.297856e-17</td>\n",
       "      <td>0.685225</td>\n",
       "      <td>AR</td>\n",
       "      <td>J53353</td>\n",
       "    </tr>\n",
       "    <tr>\n",
       "      <th>J55454</th>\n",
       "      <td>0.000000e+00</td>\n",
       "      <td>0.000000</td>\n",
       "      <td>AR</td>\n",
       "      <td>J55454</td>\n",
       "    </tr>\n",
       "  </tbody>\n",
       "</table>\n",
       "</div>"
      ],
      "text/plain": [
       "            expression   fraction   gene Tumor_ID\n",
       "Tumor_ID                                         \n",
       "H4272     9.315320e-02  10.297030   ESR1    H4272\n",
       "H5097     8.284061e-02  10.852713   ESR1    H5097\n",
       "HCI001    8.945062e-03   3.367876   ESR1   HCI001\n",
       "HCI002    8.789927e-03   1.078167   ESR1   HCI002\n",
       "HCI005    4.061648e-01  40.083218   ESR1   HCI005\n",
       "HCI010    0.000000e+00   0.000000   ESR1   HCI010\n",
       "HCI011    7.313884e-01  62.006403   ESR1   HCI011\n",
       "J2036     0.000000e+00   0.000000   ESR1    J2036\n",
       "J53353    1.379474e-04   1.670236   ESR1   J53353\n",
       "J55454    2.163487e-02   3.184713   ESR1   J55454\n",
       "H4272     1.816764e-04   0.049505    PGR    H4272\n",
       "H5097     5.053560e-02   6.589147    PGR    H5097\n",
       "HCI001    1.739822e-04   0.064767    PGR   HCI001\n",
       "HCI002    0.000000e+00   0.000000    PGR   HCI002\n",
       "HCI005    1.744808e-01  18.169209    PGR   HCI005\n",
       "HCI010    1.786073e-02   1.770891    PGR   HCI010\n",
       "HCI011    1.499453e-03   0.213447    PGR   HCI011\n",
       "J2036     0.000000e+00   0.000000    PGR    J2036\n",
       "J53353    1.038579e-16   0.449679    PGR   J53353\n",
       "J55454    0.000000e+00   0.000000    PGR   J55454\n",
       "H4272     3.408133e-01  33.589109  ERBB2    H4272\n",
       "H5097     1.780791e-01  20.930233  ERBB2    H5097\n",
       "HCI001    1.347637e-01  27.202073  ERBB2   HCI001\n",
       "HCI002    1.527078e-01  15.363881  ERBB2   HCI002\n",
       "HCI005    4.574935e-01  43.619972  ERBB2   HCI005\n",
       "HCI010    6.010878e-02   7.415606  ERBB2   HCI010\n",
       "HCI011    3.070299e-01  32.977588  ERBB2   HCI011\n",
       "J2036     2.141877e-01  23.913043  ERBB2    J2036\n",
       "J53353    1.627812e-01  35.417559  ERBB2   J53353\n",
       "J55454    6.732185e-01  50.318471  ERBB2   J55454\n",
       "H4272     0.000000e+00   0.000000     AR    H4272\n",
       "H5097     1.123517e-01  15.503876     AR    H5097\n",
       "HCI001    1.153118e-02   2.590674     AR   HCI001\n",
       "HCI002    0.000000e+00   0.000000     AR   HCI002\n",
       "HCI005    3.393467e-01  34.396671     AR   HCI005\n",
       "HCI010    5.053814e-04   0.055340     AR   HCI010\n",
       "HCI011    9.438793e-02  10.032017     AR   HCI011\n",
       "J2036     0.000000e+00   0.000000     AR    J2036\n",
       "J53353    2.297856e-17   0.685225     AR   J53353\n",
       "J55454    0.000000e+00   0.000000     AR   J55454"
      ]
     },
     "execution_count": 12,
     "metadata": {},
     "output_type": "execute_result"
    }
   ],
   "source": [
    "final_plot_df['Tumor_ID'] = final_plot_df.index\n",
    "final_plot_df"
   ]
  },
  {
   "cell_type": "code",
   "execution_count": 13,
   "metadata": {},
   "outputs": [],
   "source": [
    "tumor_order = ['HCI002', 'J55454', 'HCI005', 'H4272', 'HCI011',\n",
    "               'HCI001', 'H5097', 'J2036', 'J53353', 'HCI010']"
   ]
  },
  {
   "cell_type": "code",
   "execution_count": 14,
   "metadata": {},
   "outputs": [],
   "source": [
    "tumor_order.reverse()"
   ]
  },
  {
   "cell_type": "code",
   "execution_count": 15,
   "metadata": {},
   "outputs": [],
   "source": [
    "\n",
    "final_plot_df['gene'] = pd.Categorical(final_plot_df['gene'], categories=['ESR1','PGR','ERBB2','AR'], ordered=True)\n",
    "final_plot_df['Tumor_ID'] = pd.Categorical(final_plot_df['Tumor_ID'], categories= tumor_order, ordered=True)\n",
    "\n",
    "\n",
    "receptor_plot_ref = (ggplot(final_plot_df,aes(y='Tumor_ID', x='gene',size='fraction', fill='expression')) +\n",
    "    geom_point(alpha=1,color='gray') + \n",
    "    scale_size(name=\"percentage\",range = [0, 20],limits=[0,80],labels=['< 1','20', '40','60', '> 80' ])+ \n",
    "    scale_fill_cmap(('Reds'),limits=(0,1)) +\n",
    "    theme(axis_text_x=element_text(rotation=None, hjust=1),axis_text_y=element_text(size=10, hjust=1),plot_background=element_rect(fill='white', alpha=.3),\n",
    "          panel_background=element_rect(fill='white', alpha=.2),figure_size=(3, 8),legend_key = element_blank())\n",
    "    )"
   ]
  },
  {
   "cell_type": "code",
   "execution_count": 16,
   "metadata": {},
   "outputs": [
    {
     "data": {
      "image/png": "[encoded data removed]",
      "text/plain": [
       "<Figure size 300x800 with 1 Axes>"
      ]
     },
     "metadata": {
      "needs_background": "light"
     },
     "output_type": "display_data"
    },
    {
     "data": {
      "text/plain": [
       "<ggplot: (8755468639883)>"
      ]
     },
     "execution_count": 16,
     "metadata": {},
     "output_type": "execute_result"
    }
   ],
   "source": [
    "receptor_plot_ref"
   ]
  },
  {
   "cell_type": "code",
   "execution_count": 17,
   "metadata": {},
   "outputs": [
    {
     "name": "stderr",
     "output_type": "stream",
     "text": [
      "/home/weilun/anaconda3/lib/python3.8/site-packages/plotnine/ggplot.py:820: PlotnineWarning: Filename: receptors_bubble_plot_MULTI_ref.pdf\n"
     ]
    }
   ],
   "source": [
    "save_as_pdf_pages([receptor_plot_ref],'receptors_bubble_plot_MULTI_ref.pdf')"
   ]
  },
  {
   "cell_type": "code",
   "execution_count": 18,
   "metadata": {},
   "outputs": [],
   "source": [
    "receptor_plot = (ggplot(final_plot_df,aes(y='Tumor_ID', x='gene',size='fraction', fill='expression')) +\n",
    "    geom_point(alpha=1) + guides(fill = None,color=None,size=None) +\n",
    "    scale_size(name=\"percentage\",range = [0, 20],limits=[0,80],labels=['< 1','20', '40','60', '> 80' ])+ \n",
    "    scale_color_manual(['white', 'black'])+ scale_fill_cmap(('Reds'),limits=(0,1)) +\n",
    "    theme(axis_text_x=element_blank(),axis_text_y=element_blank(),axis_title_x=element_blank(),axis_title_y=element_blank(),\n",
    "          strip_background=element_blank(), strip_text_x=element_blank(),\n",
    "          plot_background=element_rect(fill='white', alpha=.3),panel_background=element_rect(fill='white', alpha=.2),figure_size=(3, 8),\n",
    "          axis_ticks = element_blank())\n",
    "    )"
   ]
  },
  {
   "cell_type": "code",
   "execution_count": 19,
   "metadata": {},
   "outputs": [
    {
     "data": {
      "image/png": "[encoded data removed]",
      "text/plain": [
       "<Figure size 300x800 with 1 Axes>"
      ]
     },
     "metadata": {},
     "output_type": "display_data"
    },
    {
     "data": {
      "text/plain": [
       "<ggplot: (8755467928884)>"
      ]
     },
     "execution_count": 19,
     "metadata": {},
     "output_type": "execute_result"
    }
   ],
   "source": [
    "receptor_plot"
   ]
  },
  {
   "cell_type": "code",
   "execution_count": 20,
   "metadata": {},
   "outputs": [
    {
     "name": "stderr",
     "output_type": "stream",
     "text": [
      "/home/weilun/anaconda3/lib/python3.8/site-packages/plotnine/ggplot.py:820: PlotnineWarning: Filename: receptors_bubble_plot_MULTI.pdf\n"
     ]
    }
   ],
   "source": [
    "save_as_pdf_pages([receptor_plot],'receptors_bubble_plot_MULTI.pdf')"
   ]
  },
  {
   "cell_type": "code",
   "execution_count": null,
   "metadata": {},
   "outputs": [],
   "source": []
  }
 ],
 "metadata": {
  "kernelspec": {
   "display_name": "Python 3",
   "language": "python",
   "name": "python3"
  },
  "language_info": {
   "codemirror_mode": {
    "name": "ipython",
    "version": 3
   },
   "file_extension": ".py",
   "mimetype": "text/x-python",
   "name": "python",
   "nbconvert_exporter": "python",
   "pygments_lexer": "ipython3",
   "version": "3.8.5"
  }
 },
 "nbformat": 4,
 "nbformat_minor": 4
}
