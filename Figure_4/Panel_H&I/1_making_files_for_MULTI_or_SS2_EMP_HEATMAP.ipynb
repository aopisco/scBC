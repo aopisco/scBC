{
 "cells": [
  {
   "cell_type": "code",
   "execution_count": 1,
   "metadata": {},
   "outputs": [
    {
     "name": "stdout",
     "output_type": "stream",
     "text": [
      "scanpy==1.8.1 anndata==0.7.5 umap==0.5.1 numpy==1.21.0 scipy==1.6.2 pandas==1.2.3 scikit-learn==0.23.2 statsmodels==0.12.2 python-igraph==0.9.1 louvain==0.7.0 leidenalg==0.8.2 pynndescent==0.5.2\n"
     ]
    }
   ],
   "source": [
    "# importing python modules\n",
    "import numpy as np\n",
    "import pandas as pd\n",
    "import matplotlib.pyplot as plt\n",
    "import scanpy as sc\n",
    "import glob\n",
    "\n",
    "%matplotlib inline\n",
    "sc.logging.print_header()"
   ]
  },
  {
   "cell_type": "code",
   "execution_count": 2,
   "metadata": {},
   "outputs": [],
   "source": [
    "adata_SS2_processed = sc.read_h5ad('SS2_processed.h5ad')\n",
    "adata_MULTI_processed = sc.read_h5ad('MULTI_processed.h5ad')"
   ]
  },
  {
   "cell_type": "markdown",
   "metadata": {},
   "source": [
    "# SS2 genes"
   ]
  },
  {
   "cell_type": "code",
   "execution_count": 3,
   "metadata": {},
   "outputs": [],
   "source": [
    "SS2_EMP_files = [f for f in glob.glob(\"DEGs/SS2/EMP/*.csv\")]"
   ]
  },
  {
   "cell_type": "code",
   "execution_count": 4,
   "metadata": {},
   "outputs": [
    {
     "data": {
      "text/plain": [
       "['DEGs/SS2/EMP/MAST_global_Epithelial-like.csv',\n",
       " 'DEGs/SS2/EMP/MAST_global_Mesenchymal-like.csv',\n",
       " 'DEGs/SS2/EMP/MAST_global_EMP Intermediate.csv']"
      ]
     },
     "execution_count": 4,
     "metadata": {},
     "output_type": "execute_result"
    }
   ],
   "source": [
    "SS2_EMP_files"
   ]
  },
  {
   "cell_type": "code",
   "execution_count": 5,
   "metadata": {},
   "outputs": [],
   "source": [
    "SS2_EMP_genes = pd.DataFrame()\n",
    "for i in SS2_EMP_files:\n",
    "    temp_df = pd.DataFrame()\n",
    "    EMT_ID = i.split('.')[0].split('MAST_global_')[1]\n",
    "    df = pd.read_csv(i,index_col = 0)\n",
    "    df = df[df['p_val'] < 0.05]\n",
    "    up_genes = df[df['avg_log2FC'] > 0.5].sort_values(by='avg_log2FC', ascending=False).index.tolist()\n",
    "    \n",
    "    temp_df[EMT_ID] = up_genes\n",
    "   \n",
    "    SS2_EMP_genes = pd.concat([SS2_EMP_genes,temp_df], ignore_index=False, axis=1)"
   ]
  },
  {
   "cell_type": "code",
   "execution_count": 6,
   "metadata": {},
   "outputs": [
    {
     "data": {
      "text/html": [
       "<div>\n",
       "<style scoped>\n",
       "    .dataframe tbody tr th:only-of-type {\n",
       "        vertical-align: middle;\n",
       "    }\n",
       "\n",
       "    .dataframe tbody tr th {\n",
       "        vertical-align: top;\n",
       "    }\n",
       "\n",
       "    .dataframe thead th {\n",
       "        text-align: right;\n",
       "    }\n",
       "</style>\n",
       "<table border=\"1\" class=\"dataframe\">\n",
       "  <thead>\n",
       "    <tr style=\"text-align: right;\">\n",
       "      <th></th>\n",
       "      <th>Epithelial-like</th>\n",
       "      <th>Mesenchymal-like</th>\n",
       "      <th>EMP Intermediate</th>\n",
       "    </tr>\n",
       "  </thead>\n",
       "  <tbody>\n",
       "    <tr>\n",
       "      <th>0</th>\n",
       "      <td>KRT8</td>\n",
       "      <td>COL9A3</td>\n",
       "      <td>KRT15</td>\n",
       "    </tr>\n",
       "    <tr>\n",
       "      <th>1</th>\n",
       "      <td>SLC9A3R1</td>\n",
       "      <td>C2orf40</td>\n",
       "      <td>SCGB3A1</td>\n",
       "    </tr>\n",
       "    <tr>\n",
       "      <th>2</th>\n",
       "      <td>KRT18</td>\n",
       "      <td>BGN</td>\n",
       "      <td>S100A2</td>\n",
       "    </tr>\n",
       "    <tr>\n",
       "      <th>3</th>\n",
       "      <td>LGALS3BP</td>\n",
       "      <td>MSLN</td>\n",
       "      <td>AZGP1</td>\n",
       "    </tr>\n",
       "    <tr>\n",
       "      <th>4</th>\n",
       "      <td>INTS1</td>\n",
       "      <td>COMP</td>\n",
       "      <td>ACTA1</td>\n",
       "    </tr>\n",
       "    <tr>\n",
       "      <th>...</th>\n",
       "      <td>...</td>\n",
       "      <td>...</td>\n",
       "      <td>...</td>\n",
       "    </tr>\n",
       "    <tr>\n",
       "      <th>303</th>\n",
       "      <td>NaN</td>\n",
       "      <td>WNK1</td>\n",
       "      <td>NaN</td>\n",
       "    </tr>\n",
       "    <tr>\n",
       "      <th>304</th>\n",
       "      <td>NaN</td>\n",
       "      <td>TUBA1B</td>\n",
       "      <td>NaN</td>\n",
       "    </tr>\n",
       "    <tr>\n",
       "      <th>305</th>\n",
       "      <td>NaN</td>\n",
       "      <td>H2AFJ</td>\n",
       "      <td>NaN</td>\n",
       "    </tr>\n",
       "    <tr>\n",
       "      <th>306</th>\n",
       "      <td>NaN</td>\n",
       "      <td>AZIN1</td>\n",
       "      <td>NaN</td>\n",
       "    </tr>\n",
       "    <tr>\n",
       "      <th>307</th>\n",
       "      <td>NaN</td>\n",
       "      <td>CDH19</td>\n",
       "      <td>NaN</td>\n",
       "    </tr>\n",
       "  </tbody>\n",
       "</table>\n",
       "<p>308 rows × 3 columns</p>\n",
       "</div>"
      ],
      "text/plain": [
       "    Epithelial-like Mesenchymal-like EMP Intermediate\n",
       "0              KRT8           COL9A3            KRT15\n",
       "1          SLC9A3R1          C2orf40          SCGB3A1\n",
       "2             KRT18              BGN           S100A2\n",
       "3          LGALS3BP             MSLN            AZGP1\n",
       "4             INTS1             COMP            ACTA1\n",
       "..              ...              ...              ...\n",
       "303             NaN             WNK1              NaN\n",
       "304             NaN           TUBA1B              NaN\n",
       "305             NaN            H2AFJ              NaN\n",
       "306             NaN            AZIN1              NaN\n",
       "307             NaN            CDH19              NaN\n",
       "\n",
       "[308 rows x 3 columns]"
      ]
     },
     "execution_count": 6,
     "metadata": {},
     "output_type": "execute_result"
    }
   ],
   "source": [
    "SS2_EMP_genes"
   ]
  },
  {
   "cell_type": "code",
   "execution_count": 7,
   "metadata": {},
   "outputs": [],
   "source": [
    "SS2_EMP_genes.to_csv('SS2_EMP_genes_list.csv')"
   ]
  },
  {
   "cell_type": "code",
   "execution_count": 8,
   "metadata": {},
   "outputs": [],
   "source": [
    "SS2_E_genes = [x for x in SS2_EMP_genes['Epithelial-like'].tolist() if str(x) != 'nan']\n",
    "SS2_H_genes = [x for x in SS2_EMP_genes['EMP Intermediate'].tolist() if str(x) != 'nan']\n",
    "SS2_M_genes = [x for x in SS2_EMP_genes['Mesenchymal-like'].tolist() if str(x) != 'nan']"
   ]
  },
  {
   "cell_type": "markdown",
   "metadata": {},
   "source": [
    "# MULTI genes"
   ]
  },
  {
   "cell_type": "code",
   "execution_count": 9,
   "metadata": {},
   "outputs": [],
   "source": [
    "MULTI_EMP_files = [f for f in glob.glob(\"DEGs/MULTI/EMP/*.csv\")]"
   ]
  },
  {
   "cell_type": "code",
   "execution_count": 10,
   "metadata": {},
   "outputs": [
    {
     "data": {
      "text/plain": [
       "['DEGs/MULTI/EMP/MAST_global_Epithelial-like.csv',\n",
       " 'DEGs/MULTI/EMP/MAST_global_Mesenchymal-like.csv',\n",
       " 'DEGs/MULTI/EMP/MAST_global_EMP Intermediate.csv']"
      ]
     },
     "execution_count": 10,
     "metadata": {},
     "output_type": "execute_result"
    }
   ],
   "source": [
    "MULTI_EMP_files"
   ]
  },
  {
   "cell_type": "code",
   "execution_count": 11,
   "metadata": {},
   "outputs": [],
   "source": [
    "MULTI_EMP_genes = pd.DataFrame()\n",
    "for i in MULTI_EMP_files:\n",
    "    temp_df = pd.DataFrame()\n",
    "    EMT_ID = i.split('.')[0].split('MAST_global_')[1]\n",
    "    df = pd.read_csv(i,index_col = 0)\n",
    "    df = df[df['p_val'] < 0.05]\n",
    "    up_genes = df[df['avg_log2FC'] > 0.5].sort_values(by='avg_log2FC', ascending=False).index.tolist()\n",
    "    \n",
    "    temp_df[EMT_ID] = up_genes\n",
    "   \n",
    "    MULTI_EMP_genes = pd.concat([MULTI_EMP_genes,temp_df], ignore_index=False, axis=1)"
   ]
  },
  {
   "cell_type": "code",
   "execution_count": 12,
   "metadata": {},
   "outputs": [
    {
     "data": {
      "text/html": [
       "<div>\n",
       "<style scoped>\n",
       "    .dataframe tbody tr th:only-of-type {\n",
       "        vertical-align: middle;\n",
       "    }\n",
       "\n",
       "    .dataframe tbody tr th {\n",
       "        vertical-align: top;\n",
       "    }\n",
       "\n",
       "    .dataframe thead th {\n",
       "        text-align: right;\n",
       "    }\n",
       "</style>\n",
       "<table border=\"1\" class=\"dataframe\">\n",
       "  <thead>\n",
       "    <tr style=\"text-align: right;\">\n",
       "      <th></th>\n",
       "      <th>Epithelial-like</th>\n",
       "      <th>Mesenchymal-like</th>\n",
       "      <th>EMP Intermediate</th>\n",
       "    </tr>\n",
       "  </thead>\n",
       "  <tbody>\n",
       "    <tr>\n",
       "      <th>0</th>\n",
       "      <td>TFF1</td>\n",
       "      <td>SNORC</td>\n",
       "      <td>FDCSP</td>\n",
       "    </tr>\n",
       "    <tr>\n",
       "      <th>1</th>\n",
       "      <td>TFF3</td>\n",
       "      <td>SCRG1</td>\n",
       "      <td>WFDC2</td>\n",
       "    </tr>\n",
       "    <tr>\n",
       "      <th>2</th>\n",
       "      <td>AGR2</td>\n",
       "      <td>COL9A3</td>\n",
       "      <td>RARRES1</td>\n",
       "    </tr>\n",
       "    <tr>\n",
       "      <th>3</th>\n",
       "      <td>SCGB2A2</td>\n",
       "      <td>H19</td>\n",
       "      <td>LINC00472</td>\n",
       "    </tr>\n",
       "    <tr>\n",
       "      <th>4</th>\n",
       "      <td>SLC39A6</td>\n",
       "      <td>S100A4</td>\n",
       "      <td>C5orf46</td>\n",
       "    </tr>\n",
       "    <tr>\n",
       "      <th>...</th>\n",
       "      <td>...</td>\n",
       "      <td>...</td>\n",
       "      <td>...</td>\n",
       "    </tr>\n",
       "    <tr>\n",
       "      <th>284</th>\n",
       "      <td>NaN</td>\n",
       "      <td>PLAG1</td>\n",
       "      <td>NaN</td>\n",
       "    </tr>\n",
       "    <tr>\n",
       "      <th>285</th>\n",
       "      <td>NaN</td>\n",
       "      <td>CSPG4</td>\n",
       "      <td>NaN</td>\n",
       "    </tr>\n",
       "    <tr>\n",
       "      <th>286</th>\n",
       "      <td>NaN</td>\n",
       "      <td>TMEM208</td>\n",
       "      <td>NaN</td>\n",
       "    </tr>\n",
       "    <tr>\n",
       "      <th>287</th>\n",
       "      <td>NaN</td>\n",
       "      <td>MGP</td>\n",
       "      <td>NaN</td>\n",
       "    </tr>\n",
       "    <tr>\n",
       "      <th>288</th>\n",
       "      <td>NaN</td>\n",
       "      <td>HDLBP</td>\n",
       "      <td>NaN</td>\n",
       "    </tr>\n",
       "  </tbody>\n",
       "</table>\n",
       "<p>289 rows × 3 columns</p>\n",
       "</div>"
      ],
      "text/plain": [
       "    Epithelial-like Mesenchymal-like EMP Intermediate\n",
       "0              TFF1            SNORC            FDCSP\n",
       "1              TFF3            SCRG1            WFDC2\n",
       "2              AGR2           COL9A3          RARRES1\n",
       "3           SCGB2A2              H19        LINC00472\n",
       "4           SLC39A6           S100A4          C5orf46\n",
       "..              ...              ...              ...\n",
       "284             NaN            PLAG1              NaN\n",
       "285             NaN            CSPG4              NaN\n",
       "286             NaN          TMEM208              NaN\n",
       "287             NaN              MGP              NaN\n",
       "288             NaN            HDLBP              NaN\n",
       "\n",
       "[289 rows x 3 columns]"
      ]
     },
     "execution_count": 12,
     "metadata": {},
     "output_type": "execute_result"
    }
   ],
   "source": [
    "MULTI_EMP_genes"
   ]
  },
  {
   "cell_type": "code",
   "execution_count": 13,
   "metadata": {},
   "outputs": [],
   "source": [
    "MULTI_EMP_genes.to_csv('MULTI_EMP_genes_list.csv')"
   ]
  },
  {
   "cell_type": "code",
   "execution_count": 14,
   "metadata": {},
   "outputs": [],
   "source": [
    "MULTI_E_genes = [x for x in MULTI_EMP_genes['Epithelial-like'].tolist() if str(x) != 'nan']\n",
    "MULTI_H_genes = [x for x in MULTI_EMP_genes['EMP Intermediate'].tolist() if str(x) != 'nan']\n",
    "MULTI_M_genes = [x for x in MULTI_EMP_genes['Mesenchymal-like'].tolist() if str(x) != 'nan']"
   ]
  },
  {
   "cell_type": "markdown",
   "metadata": {},
   "source": [
    "# find overlap genes between SS2 and MULTI-seq"
   ]
  },
  {
   "cell_type": "code",
   "execution_count": 15,
   "metadata": {},
   "outputs": [
    {
     "data": {
      "text/plain": [
       "62"
      ]
     },
     "execution_count": 15,
     "metadata": {},
     "output_type": "execute_result"
    }
   ],
   "source": [
    "final_E_overlap = list(set(SS2_E_genes)&set(MULTI_E_genes))\n",
    "len(final_E_overlap)"
   ]
  },
  {
   "cell_type": "code",
   "execution_count": 16,
   "metadata": {},
   "outputs": [
    {
     "data": {
      "text/plain": [
       "5"
      ]
     },
     "execution_count": 16,
     "metadata": {},
     "output_type": "execute_result"
    }
   ],
   "source": [
    "final_H_overlap = list(set(SS2_H_genes)&set(MULTI_H_genes))\n",
    "len(final_H_overlap)"
   ]
  },
  {
   "cell_type": "code",
   "execution_count": 17,
   "metadata": {},
   "outputs": [
    {
     "data": {
      "text/plain": [
       "132"
      ]
     },
     "execution_count": 17,
     "metadata": {},
     "output_type": "execute_result"
    }
   ],
   "source": [
    "final_M_overlap = list(set(SS2_M_genes[:])&set(MULTI_M_genes[:]))\n",
    "len(final_M_overlap)"
   ]
  },
  {
   "cell_type": "code",
   "execution_count": 18,
   "metadata": {},
   "outputs": [
    {
     "data": {
      "text/html": [
       "<div>\n",
       "<style scoped>\n",
       "    .dataframe tbody tr th:only-of-type {\n",
       "        vertical-align: middle;\n",
       "    }\n",
       "\n",
       "    .dataframe tbody tr th {\n",
       "        vertical-align: top;\n",
       "    }\n",
       "\n",
       "    .dataframe thead th {\n",
       "        text-align: right;\n",
       "    }\n",
       "</style>\n",
       "<table border=\"1\" class=\"dataframe\">\n",
       "  <thead>\n",
       "    <tr style=\"text-align: right;\">\n",
       "      <th></th>\n",
       "      <th>low_overlap</th>\n",
       "      <th>intermediate_overlap</th>\n",
       "      <th>high_overlap</th>\n",
       "    </tr>\n",
       "  </thead>\n",
       "  <tbody>\n",
       "    <tr>\n",
       "      <th>0</th>\n",
       "      <td>NSD3</td>\n",
       "      <td>CRYAB</td>\n",
       "      <td>RPL23A</td>\n",
       "    </tr>\n",
       "    <tr>\n",
       "      <th>1</th>\n",
       "      <td>NAT1</td>\n",
       "      <td>KRT15</td>\n",
       "      <td>PLOD1</td>\n",
       "    </tr>\n",
       "    <tr>\n",
       "      <th>2</th>\n",
       "      <td>ARRDC1</td>\n",
       "      <td>CALML5</td>\n",
       "      <td>CITED4</td>\n",
       "    </tr>\n",
       "    <tr>\n",
       "      <th>3</th>\n",
       "      <td>EFHD1</td>\n",
       "      <td>CD24</td>\n",
       "      <td>RPL28</td>\n",
       "    </tr>\n",
       "    <tr>\n",
       "      <th>4</th>\n",
       "      <td>SCCPDH</td>\n",
       "      <td>S100A2</td>\n",
       "      <td>HAPLN1</td>\n",
       "    </tr>\n",
       "    <tr>\n",
       "      <th>...</th>\n",
       "      <td>...</td>\n",
       "      <td>...</td>\n",
       "      <td>...</td>\n",
       "    </tr>\n",
       "    <tr>\n",
       "      <th>127</th>\n",
       "      <td>NaN</td>\n",
       "      <td>NaN</td>\n",
       "      <td>COL11A2</td>\n",
       "    </tr>\n",
       "    <tr>\n",
       "      <th>128</th>\n",
       "      <td>NaN</td>\n",
       "      <td>NaN</td>\n",
       "      <td>NR4A2</td>\n",
       "    </tr>\n",
       "    <tr>\n",
       "      <th>129</th>\n",
       "      <td>NaN</td>\n",
       "      <td>NaN</td>\n",
       "      <td>RPS12</td>\n",
       "    </tr>\n",
       "    <tr>\n",
       "      <th>130</th>\n",
       "      <td>NaN</td>\n",
       "      <td>NaN</td>\n",
       "      <td>CYBA</td>\n",
       "    </tr>\n",
       "    <tr>\n",
       "      <th>131</th>\n",
       "      <td>NaN</td>\n",
       "      <td>NaN</td>\n",
       "      <td>CPQ</td>\n",
       "    </tr>\n",
       "  </tbody>\n",
       "</table>\n",
       "<p>132 rows × 3 columns</p>\n",
       "</div>"
      ],
      "text/plain": [
       "    low_overlap intermediate_overlap high_overlap\n",
       "0          NSD3                CRYAB       RPL23A\n",
       "1          NAT1                KRT15        PLOD1\n",
       "2        ARRDC1               CALML5       CITED4\n",
       "3         EFHD1                 CD24        RPL28\n",
       "4        SCCPDH               S100A2       HAPLN1\n",
       "..          ...                  ...          ...\n",
       "127         NaN                  NaN      COL11A2\n",
       "128         NaN                  NaN        NR4A2\n",
       "129         NaN                  NaN        RPS12\n",
       "130         NaN                  NaN         CYBA\n",
       "131         NaN                  NaN          CPQ\n",
       "\n",
       "[132 rows x 3 columns]"
      ]
     },
     "execution_count": 18,
     "metadata": {},
     "output_type": "execute_result"
    }
   ],
   "source": [
    "final_overlap_EMP_genes = pd.DataFrame()\n",
    "temp_df_E = pd.DataFrame()\n",
    "temp_df_H = pd.DataFrame()\n",
    "temp_df_M = pd.DataFrame()\n",
    "temp_df_E['low_overlap'] = final_E_overlap\n",
    "temp_df_H['intermediate_overlap'] = final_H_overlap\n",
    "temp_df_M['high_overlap'] = final_M_overlap\n",
    "final_overlap_EMP_genes = pd.concat([final_overlap_EMP_genes,temp_df_E,temp_df_H,temp_df_M], ignore_index=False, axis=1)\n",
    "final_overlap_EMP_genes"
   ]
  },
  {
   "cell_type": "code",
   "execution_count": 19,
   "metadata": {},
   "outputs": [],
   "source": [
    "final_overlap_EMP_genes.to_csv('SS2_MULTI_overlap_EMP_genes_list.csv')"
   ]
  },
  {
   "cell_type": "markdown",
   "metadata": {},
   "source": [
    "# SS2 EMP Heatmap"
   ]
  },
  {
   "cell_type": "code",
   "execution_count": 20,
   "metadata": {},
   "outputs": [
    {
     "name": "stderr",
     "output_type": "stream",
     "text": [
      "/home/weilun/anaconda3/lib/python3.8/site-packages/pandas/core/arrays/categorical.py:2487: FutureWarning: The `inplace` parameter in pandas.Categorical.remove_unused_categories is deprecated and will be removed in a future version.\n",
      "  res = method(*args, **kwargs)\n"
     ]
    }
   ],
   "source": [
    "SS2_EMP_genes_list = SS2_E_genes + SS2_H_genes + SS2_M_genes\n",
    "\n",
    "adata_SS2_processed_E = adata_SS2_processed[adata_SS2_processed.obs['EMP_stage'] == 'Epithelial-like']\n",
    "SS2_E_metadata_df = adata_SS2_processed_E.obs.sort_values(by='EMP_score',ascending=True)\n",
    "\n",
    "adata_SS2_processed_H = adata_SS2_processed[adata_SS2_processed.obs['EMP_stage'] == 'EMP Intermediate']\n",
    "SS2_H_metadata_df = adata_SS2_processed_H.obs.sort_values(by='EMP_score',ascending=True)\n",
    "\n",
    "adata_SS2_processed_M = adata_SS2_processed[adata_SS2_processed.obs['EMP_stage'] == 'Mesenchymal-like']\n",
    "SS2_M_metadata_df = adata_SS2_processed_M.obs.sort_values(by='EMP_score',ascending=True)\n"
   ]
  },
  {
   "cell_type": "code",
   "execution_count": 21,
   "metadata": {},
   "outputs": [
    {
     "data": {
      "text/plain": [
       "568"
      ]
     },
     "execution_count": 21,
     "metadata": {},
     "output_type": "execute_result"
    }
   ],
   "source": [
    "len(set(SS2_EMP_genes_list))"
   ]
  },
  {
   "cell_type": "code",
   "execution_count": 22,
   "metadata": {},
   "outputs": [],
   "source": [
    "final_SS2_EMP_genes_list = []\n",
    "for i in SS2_EMP_genes_list:\n",
    "    if i not in final_SS2_EMP_genes_list:\n",
    "        final_SS2_EMP_genes_list.append(i)"
   ]
  },
  {
   "cell_type": "code",
   "execution_count": 23,
   "metadata": {},
   "outputs": [],
   "source": [
    "SS2_E_gc_df = adata_SS2_processed_E.to_df()[final_SS2_EMP_genes_list]\n",
    "SS2_E_gc_df = SS2_E_gc_df.T[SS2_E_metadata_df.index].T\n",
    "\n",
    "SS2_H_gc_df = adata_SS2_processed_H.to_df()[final_SS2_EMP_genes_list]\n",
    "SS2_H_gc_df = SS2_H_gc_df.T[SS2_H_metadata_df.index].T\n",
    "\n",
    "SS2_M_gc_df = adata_SS2_processed_M.to_df()[final_SS2_EMP_genes_list]\n",
    "SS2_M_gc_df = SS2_M_gc_df.T[SS2_M_metadata_df.index].T\n",
    "\n",
    "final_SS2_gc_df = pd.concat([SS2_E_gc_df,SS2_H_gc_df,SS2_M_gc_df])\n",
    "final_SS2_gc_df = final_SS2_gc_df.T\n",
    "\n",
    "final_SS2_gc_df.to_csv('SS2_global_EMT_gc.csv')"
   ]
  },
  {
   "cell_type": "code",
   "execution_count": 24,
   "metadata": {
    "heading_collapsed": "false"
   },
   "outputs": [],
   "source": [
    "SS2_final_metadata_df = pd.concat([SS2_E_metadata_df,SS2_H_metadata_df,SS2_M_metadata_df])\n",
    "SS2_final_metadata_df.to_csv('SS2_global_EMT_metadata.csv')"
   ]
  },
  {
   "cell_type": "code",
   "execution_count": 25,
   "metadata": {
    "heading_collapsed": "false"
   },
   "outputs": [],
   "source": [
    "SS2_gene_metadata = pd.DataFrame()\n",
    "SS2_gene_metadata['gene'] = final_SS2_EMP_genes_list\n",
    "SS2_gene_metadata = SS2_gene_metadata.set_index('gene')\n",
    "for i in SS2_gene_metadata.index:\n",
    "    if i in SS2_E_genes:\n",
    "        SS2_gene_metadata.loc[i, 'group'] = 'Epithelial-like'\n",
    "    elif i in SS2_H_genes:\n",
    "        SS2_gene_metadata.loc[i, 'group'] = 'EMP Intermediate'\n",
    "    elif i in SS2_M_genes:\n",
    "        SS2_gene_metadata.loc[i, 'group'] = 'Mesenchymal-like'\n",
    "        \n",
    "SS2_gene_metadata.to_csv('SS2_global_EMT_metadata_gene.csv')"
   ]
  },
  {
   "cell_type": "markdown",
   "metadata": {},
   "source": [
    "# MULTI EMP Heatmap"
   ]
  },
  {
   "cell_type": "code",
   "execution_count": 26,
   "metadata": {},
   "outputs": [],
   "source": [
    "MULTI_EMP_genes_list = MULTI_E_genes + MULTI_H_genes + MULTI_M_genes\n",
    "\n",
    "adata_MULTI_processed_E = adata_MULTI_processed[adata_MULTI_processed.obs['EMP_stage'] == 'Epithelial-like']\n",
    "MULTI_E_metadata_df = adata_MULTI_processed_E.obs.sort_values(by='EMP_score',ascending=True)\n",
    "\n",
    "adata_MULTI_processed_H = adata_MULTI_processed[adata_MULTI_processed.obs['EMP_stage'] == 'EMP Intermediate']\n",
    "MULTI_H_metadata_df = adata_MULTI_processed_H.obs.sort_values(by='EMP_score',ascending=True)\n",
    "\n",
    "adata_MULTI_processed_M = adata_MULTI_processed[adata_MULTI_processed.obs['EMP_stage'] == 'Mesenchymal-like']\n",
    "MULTI_M_metadata_df = adata_MULTI_processed_M.obs.sort_values(by='EMP_score',ascending=True)\n"
   ]
  },
  {
   "cell_type": "code",
   "execution_count": 27,
   "metadata": {},
   "outputs": [
    {
     "data": {
      "text/plain": [
       "622"
      ]
     },
     "execution_count": 27,
     "metadata": {},
     "output_type": "execute_result"
    }
   ],
   "source": [
    "len(set(MULTI_EMP_genes_list))"
   ]
  },
  {
   "cell_type": "code",
   "execution_count": 28,
   "metadata": {},
   "outputs": [],
   "source": [
    "final_MULTI_EMP_genes_list = []\n",
    "for i in MULTI_EMP_genes_list:\n",
    "    if i not in final_MULTI_EMP_genes_list:\n",
    "        final_MULTI_EMP_genes_list.append(i)"
   ]
  },
  {
   "cell_type": "code",
   "execution_count": 29,
   "metadata": {},
   "outputs": [],
   "source": [
    "MULTI_E_gc_df = adata_MULTI_processed_E.to_df()[final_MULTI_EMP_genes_list]\n",
    "MULTI_E_gc_df = MULTI_E_gc_df.T[MULTI_E_metadata_df.index].T\n",
    "\n",
    "MULTI_H_gc_df = adata_MULTI_processed_H.to_df()[final_MULTI_EMP_genes_list]\n",
    "MULTI_H_gc_df = MULTI_H_gc_df.T[MULTI_H_metadata_df.index].T\n",
    "\n",
    "MULTI_M_gc_df = adata_MULTI_processed_M.to_df()[final_MULTI_EMP_genes_list]\n",
    "MULTI_M_gc_df = MULTI_M_gc_df.T[MULTI_M_metadata_df.index].T\n",
    "\n",
    "final_MULTI_gc_df = pd.concat([MULTI_E_gc_df,MULTI_H_gc_df,MULTI_M_gc_df])\n",
    "final_MULTI_gc_df = final_MULTI_gc_df.T\n",
    "\n",
    "final_MULTI_gc_df.to_csv('MULTI_global_EMT_gc.csv')"
   ]
  },
  {
   "cell_type": "code",
   "execution_count": 30,
   "metadata": {
    "heading_collapsed": "false"
   },
   "outputs": [],
   "source": [
    "MULTI_final_metadata_df = pd.concat([MULTI_E_metadata_df,MULTI_H_metadata_df,MULTI_M_metadata_df])\n",
    "MULTI_final_metadata_df.to_csv('MULTI_global_EMT_metadata.csv')"
   ]
  },
  {
   "cell_type": "code",
   "execution_count": 31,
   "metadata": {
    "heading_collapsed": "false"
   },
   "outputs": [],
   "source": [
    "MULTI_gene_metadata = pd.DataFrame()\n",
    "MULTI_gene_metadata['gene'] = final_MULTI_EMP_genes_list\n",
    "MULTI_gene_metadata = MULTI_gene_metadata.set_index('gene')\n",
    "for i in MULTI_gene_metadata.index:\n",
    "    if i in MULTI_E_genes:\n",
    "        MULTI_gene_metadata.loc[i, 'group'] = 'Epithelial-like'\n",
    "    elif i in MULTI_H_genes:\n",
    "        MULTI_gene_metadata.loc[i, 'group'] = 'EMP Intermediate'\n",
    "    elif i in MULTI_M_genes:\n",
    "        MULTI_gene_metadata.loc[i, 'group'] = 'Mesenchymal-like'\n",
    "        \n",
    "MULTI_gene_metadata.to_csv('MULTI_global_EMT_metadata_gene.csv')"
   ]
  },
  {
   "cell_type": "code",
   "execution_count": null,
   "metadata": {},
   "outputs": [],
   "source": []
  }
 ],
 "metadata": {
  "kernelspec": {
   "display_name": "Python 3",
   "language": "python",
   "name": "python3"
  },
  "language_info": {
   "codemirror_mode": {
    "name": "ipython",
    "version": 3
   },
   "file_extension": ".py",
   "mimetype": "text/x-python",
   "name": "python",
   "nbconvert_exporter": "python",
   "pygments_lexer": "ipython3",
   "version": "3.8.5"
  }
 },
 "nbformat": 4,
 "nbformat_minor": 4
}
