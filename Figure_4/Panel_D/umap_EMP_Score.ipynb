{
 "cells": [
  {
   "cell_type": "code",
   "execution_count": 1,
   "metadata": {},
   "outputs": [],
   "source": [
    "import scanpy as sc"
   ]
  },
  {
   "cell_type": "code",
   "execution_count": 2,
   "metadata": {},
   "outputs": [],
   "source": [
    "sc.settings.set_figure_params(dpi=80,dpi_save=500,transparent=True,figsize=(2, 2))"
   ]
  },
  {
   "cell_type": "code",
   "execution_count": 3,
   "metadata": {},
   "outputs": [],
   "source": [
    "Tumor_list = ['H4272', 'H5097', 'HCI001', 'HCI005', 'HCI010', 'HCI011']"
   ]
  },
  {
   "cell_type": "code",
   "execution_count": 4,
   "metadata": {},
   "outputs": [
    {
     "name": "stdout",
     "output_type": "stream",
     "text": [
      "WARNING: saving figure to file figures/umap_MULTI_H4272_EMP_score_dot_szie_20_2X2.pdf\n",
      "WARNING: saving figure to file figures/umap_SS2_H4272_EMP_score_dot_szie_70_2X2.pdf\n",
      "WARNING: saving figure to file figures/umap_MULTI_H5097_EMP_score_dot_szie_20_2X2.pdf\n",
      "WARNING: saving figure to file figures/umap_SS2_H5097_EMP_score_dot_szie_70_2X2.pdf\n",
      "WARNING: saving figure to file figures/umap_MULTI_HCI001_EMP_score_dot_szie_20_2X2.pdf\n",
      "WARNING: saving figure to file figures/umap_SS2_HCI001_EMP_score_dot_szie_70_2X2.pdf\n",
      "WARNING: saving figure to file figures/umap_MULTI_HCI005_EMP_score_dot_szie_20_2X2.pdf\n",
      "WARNING: saving figure to file figures/umap_SS2_HCI005_EMP_score_dot_szie_70_2X2.pdf\n",
      "WARNING: saving figure to file figures/umap_MULTI_HCI010_EMP_score_dot_szie_20_2X2.pdf\n",
      "WARNING: saving figure to file figures/umap_SS2_HCI010_EMP_score_dot_szie_70_2X2.pdf\n",
      "WARNING: saving figure to file figures/umap_MULTI_HCI011_EMP_score_dot_szie_20_2X2.pdf\n",
      "WARNING: saving figure to file figures/umap_SS2_HCI011_EMP_score_dot_szie_70_2X2.pdf\n"
     ]
    }
   ],
   "source": [
    "for i in Tumor_list:\n",
    "    MULTI_adata = sc.read_h5ad('MULTI_' + i + '.h5ad')\n",
    "    SS2_adata = sc.read_h5ad('SS2_' + i + '.h5ad')\n",
    "    \n",
    "    sc.pl.umap(MULTI_adata, color=['EMP_score'], frameon=False, legend_loc=None, title=\"\", size=20, color_map='inferno', show=False, save=\"_MULTI_\" + i + \"_EMP_score_dot_szie_20_2X2.pdf\")\n",
    "    sc.pl.umap(SS2_adata, color=['EMP_score'], frameon=False, legend_loc=None, title=\"\", size=70, color_map='inferno', show=False, save=\"_SS2_\" + i + \"_EMP_score_dot_szie_70_2X2.pdf\")"
   ]
  },
  {
   "cell_type": "code",
   "execution_count": null,
   "metadata": {},
   "outputs": [],
   "source": []
  }
 ],
 "metadata": {
  "kernelspec": {
   "display_name": "Python 3",
   "language": "python",
   "name": "python3"
  },
  "language_info": {
   "codemirror_mode": {
    "name": "ipython",
    "version": 3
   },
   "file_extension": ".py",
   "mimetype": "text/x-python",
   "name": "python",
   "nbconvert_exporter": "python",
   "pygments_lexer": "ipython3",
   "version": "3.8.5"
  }
 },
 "nbformat": 4,
 "nbformat_minor": 4
}
